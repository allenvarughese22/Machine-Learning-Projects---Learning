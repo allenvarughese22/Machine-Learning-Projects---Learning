{
 "cells": [
  {
   "cell_type": "code",
   "execution_count": 362,
   "metadata": {},
   "outputs": [],
   "source": [
    "import numpy as np\n",
    "import pandas as pd\n",
    "import matplotlib.pyplot as plt\n",
    "import seaborn as sns"
   ]
  },
  {
   "cell_type": "code",
   "execution_count": 363,
   "metadata": {},
   "outputs": [],
   "source": [
    "df_churndata = pd.read_csv('churn_data.csv')"
   ]
  },
  {
   "cell_type": "code",
   "execution_count": 364,
   "metadata": {},
   "outputs": [
    {
     "data": {
      "text/html": [
       "<div>\n",
       "<style scoped>\n",
       "    .dataframe tbody tr th:only-of-type {\n",
       "        vertical-align: middle;\n",
       "    }\n",
       "\n",
       "    .dataframe tbody tr th {\n",
       "        vertical-align: top;\n",
       "    }\n",
       "\n",
       "    .dataframe thead th {\n",
       "        text-align: right;\n",
       "    }\n",
       "</style>\n",
       "<table border=\"1\" class=\"dataframe\">\n",
       "  <thead>\n",
       "    <tr style=\"text-align: right;\">\n",
       "      <th></th>\n",
       "      <th>user</th>\n",
       "      <th>churn</th>\n",
       "      <th>age</th>\n",
       "      <th>housing</th>\n",
       "      <th>credit_score</th>\n",
       "      <th>deposits</th>\n",
       "      <th>withdrawal</th>\n",
       "      <th>purchases_partners</th>\n",
       "      <th>purchases</th>\n",
       "      <th>cc_taken</th>\n",
       "      <th>...</th>\n",
       "      <th>waiting_4_loan</th>\n",
       "      <th>cancelled_loan</th>\n",
       "      <th>received_loan</th>\n",
       "      <th>rejected_loan</th>\n",
       "      <th>zodiac_sign</th>\n",
       "      <th>left_for_two_month_plus</th>\n",
       "      <th>left_for_one_month</th>\n",
       "      <th>rewards_earned</th>\n",
       "      <th>reward_rate</th>\n",
       "      <th>is_referred</th>\n",
       "    </tr>\n",
       "  </thead>\n",
       "  <tbody>\n",
       "    <tr>\n",
       "      <th>0</th>\n",
       "      <td>55409</td>\n",
       "      <td>0</td>\n",
       "      <td>37.0</td>\n",
       "      <td>na</td>\n",
       "      <td>NaN</td>\n",
       "      <td>0</td>\n",
       "      <td>0</td>\n",
       "      <td>0</td>\n",
       "      <td>0</td>\n",
       "      <td>0</td>\n",
       "      <td>...</td>\n",
       "      <td>0</td>\n",
       "      <td>0</td>\n",
       "      <td>0</td>\n",
       "      <td>0</td>\n",
       "      <td>Leo</td>\n",
       "      <td>1</td>\n",
       "      <td>0</td>\n",
       "      <td>NaN</td>\n",
       "      <td>0.00</td>\n",
       "      <td>0</td>\n",
       "    </tr>\n",
       "    <tr>\n",
       "      <th>1</th>\n",
       "      <td>23547</td>\n",
       "      <td>0</td>\n",
       "      <td>28.0</td>\n",
       "      <td>R</td>\n",
       "      <td>486.0</td>\n",
       "      <td>0</td>\n",
       "      <td>0</td>\n",
       "      <td>1</td>\n",
       "      <td>0</td>\n",
       "      <td>0</td>\n",
       "      <td>...</td>\n",
       "      <td>0</td>\n",
       "      <td>0</td>\n",
       "      <td>0</td>\n",
       "      <td>0</td>\n",
       "      <td>Leo</td>\n",
       "      <td>0</td>\n",
       "      <td>0</td>\n",
       "      <td>44.0</td>\n",
       "      <td>1.47</td>\n",
       "      <td>1</td>\n",
       "    </tr>\n",
       "    <tr>\n",
       "      <th>2</th>\n",
       "      <td>58313</td>\n",
       "      <td>0</td>\n",
       "      <td>35.0</td>\n",
       "      <td>R</td>\n",
       "      <td>561.0</td>\n",
       "      <td>47</td>\n",
       "      <td>2</td>\n",
       "      <td>86</td>\n",
       "      <td>47</td>\n",
       "      <td>0</td>\n",
       "      <td>...</td>\n",
       "      <td>0</td>\n",
       "      <td>0</td>\n",
       "      <td>0</td>\n",
       "      <td>0</td>\n",
       "      <td>Capricorn</td>\n",
       "      <td>1</td>\n",
       "      <td>0</td>\n",
       "      <td>65.0</td>\n",
       "      <td>2.17</td>\n",
       "      <td>0</td>\n",
       "    </tr>\n",
       "    <tr>\n",
       "      <th>3</th>\n",
       "      <td>8095</td>\n",
       "      <td>0</td>\n",
       "      <td>26.0</td>\n",
       "      <td>R</td>\n",
       "      <td>567.0</td>\n",
       "      <td>26</td>\n",
       "      <td>3</td>\n",
       "      <td>38</td>\n",
       "      <td>25</td>\n",
       "      <td>0</td>\n",
       "      <td>...</td>\n",
       "      <td>0</td>\n",
       "      <td>0</td>\n",
       "      <td>0</td>\n",
       "      <td>0</td>\n",
       "      <td>Capricorn</td>\n",
       "      <td>0</td>\n",
       "      <td>0</td>\n",
       "      <td>33.0</td>\n",
       "      <td>1.10</td>\n",
       "      <td>1</td>\n",
       "    </tr>\n",
       "    <tr>\n",
       "      <th>4</th>\n",
       "      <td>61353</td>\n",
       "      <td>1</td>\n",
       "      <td>27.0</td>\n",
       "      <td>na</td>\n",
       "      <td>NaN</td>\n",
       "      <td>0</td>\n",
       "      <td>0</td>\n",
       "      <td>2</td>\n",
       "      <td>0</td>\n",
       "      <td>0</td>\n",
       "      <td>...</td>\n",
       "      <td>0</td>\n",
       "      <td>0</td>\n",
       "      <td>0</td>\n",
       "      <td>0</td>\n",
       "      <td>Aries</td>\n",
       "      <td>1</td>\n",
       "      <td>0</td>\n",
       "      <td>1.0</td>\n",
       "      <td>0.03</td>\n",
       "      <td>0</td>\n",
       "    </tr>\n",
       "  </tbody>\n",
       "</table>\n",
       "<p>5 rows × 31 columns</p>\n",
       "</div>"
      ],
      "text/plain": [
       "    user  churn   age housing  credit_score  deposits  withdrawal  \\\n",
       "0  55409      0  37.0      na           NaN         0           0   \n",
       "1  23547      0  28.0       R         486.0         0           0   \n",
       "2  58313      0  35.0       R         561.0        47           2   \n",
       "3   8095      0  26.0       R         567.0        26           3   \n",
       "4  61353      1  27.0      na           NaN         0           0   \n",
       "\n",
       "   purchases_partners  purchases  cc_taken  ...  waiting_4_loan  \\\n",
       "0                   0          0         0  ...               0   \n",
       "1                   1          0         0  ...               0   \n",
       "2                  86         47         0  ...               0   \n",
       "3                  38         25         0  ...               0   \n",
       "4                   2          0         0  ...               0   \n",
       "\n",
       "   cancelled_loan  received_loan  rejected_loan  zodiac_sign  \\\n",
       "0               0              0              0          Leo   \n",
       "1               0              0              0          Leo   \n",
       "2               0              0              0    Capricorn   \n",
       "3               0              0              0    Capricorn   \n",
       "4               0              0              0        Aries   \n",
       "\n",
       "   left_for_two_month_plus  left_for_one_month  rewards_earned  reward_rate  \\\n",
       "0                        1                   0             NaN         0.00   \n",
       "1                        0                   0            44.0         1.47   \n",
       "2                        1                   0            65.0         2.17   \n",
       "3                        0                   0            33.0         1.10   \n",
       "4                        1                   0             1.0         0.03   \n",
       "\n",
       "   is_referred  \n",
       "0            0  \n",
       "1            1  \n",
       "2            0  \n",
       "3            1  \n",
       "4            0  \n",
       "\n",
       "[5 rows x 31 columns]"
      ]
     },
     "execution_count": 364,
     "metadata": {},
     "output_type": "execute_result"
    }
   ],
   "source": [
    "df_churndata.head()"
   ]
  },
  {
   "cell_type": "code",
   "execution_count": 365,
   "metadata": {},
   "outputs": [
    {
     "data": {
      "text/html": [
       "<div>\n",
       "<style scoped>\n",
       "    .dataframe tbody tr th:only-of-type {\n",
       "        vertical-align: middle;\n",
       "    }\n",
       "\n",
       "    .dataframe tbody tr th {\n",
       "        vertical-align: top;\n",
       "    }\n",
       "\n",
       "    .dataframe thead th {\n",
       "        text-align: right;\n",
       "    }\n",
       "</style>\n",
       "<table border=\"1\" class=\"dataframe\">\n",
       "  <thead>\n",
       "    <tr style=\"text-align: right;\">\n",
       "      <th></th>\n",
       "      <th>housing</th>\n",
       "      <th>payment_type</th>\n",
       "      <th>zodiac_sign</th>\n",
       "    </tr>\n",
       "  </thead>\n",
       "  <tbody>\n",
       "    <tr>\n",
       "      <th>count</th>\n",
       "      <td>27000</td>\n",
       "      <td>27000</td>\n",
       "      <td>27000</td>\n",
       "    </tr>\n",
       "    <tr>\n",
       "      <th>unique</th>\n",
       "      <td>3</td>\n",
       "      <td>5</td>\n",
       "      <td>13</td>\n",
       "    </tr>\n",
       "    <tr>\n",
       "      <th>top</th>\n",
       "      <td>na</td>\n",
       "      <td>Bi-Weekly</td>\n",
       "      <td>Cancer</td>\n",
       "    </tr>\n",
       "    <tr>\n",
       "      <th>freq</th>\n",
       "      <td>13860</td>\n",
       "      <td>12716</td>\n",
       "      <td>2424</td>\n",
       "    </tr>\n",
       "  </tbody>\n",
       "</table>\n",
       "</div>"
      ],
      "text/plain": [
       "       housing payment_type zodiac_sign\n",
       "count    27000        27000       27000\n",
       "unique       3            5          13\n",
       "top         na    Bi-Weekly      Cancer\n",
       "freq     13860        12716        2424"
      ]
     },
     "execution_count": 365,
     "metadata": {},
     "output_type": "execute_result"
    }
   ],
   "source": [
    "df_churndata.describe(include='O')"
   ]
  },
  {
   "cell_type": "code",
   "execution_count": 366,
   "metadata": {},
   "outputs": [
    {
     "name": "stdout",
     "output_type": "stream",
     "text": [
      "<class 'pandas.core.frame.DataFrame'>\n",
      "RangeIndex: 27000 entries, 0 to 26999\n",
      "Data columns (total 31 columns):\n",
      " #   Column                   Non-Null Count  Dtype  \n",
      "---  ------                   --------------  -----  \n",
      " 0   user                     27000 non-null  int64  \n",
      " 1   churn                    27000 non-null  int64  \n",
      " 2   age                      26996 non-null  float64\n",
      " 3   housing                  27000 non-null  object \n",
      " 4   credit_score             18969 non-null  float64\n",
      " 5   deposits                 27000 non-null  int64  \n",
      " 6   withdrawal               27000 non-null  int64  \n",
      " 7   purchases_partners       27000 non-null  int64  \n",
      " 8   purchases                27000 non-null  int64  \n",
      " 9   cc_taken                 27000 non-null  int64  \n",
      " 10  cc_recommended           27000 non-null  int64  \n",
      " 11  cc_disliked              27000 non-null  int64  \n",
      " 12  cc_liked                 27000 non-null  int64  \n",
      " 13  cc_application_begin     27000 non-null  int64  \n",
      " 14  app_downloaded           27000 non-null  int64  \n",
      " 15  web_user                 27000 non-null  int64  \n",
      " 16  app_web_user             27000 non-null  int64  \n",
      " 17  ios_user                 27000 non-null  int64  \n",
      " 18  android_user             27000 non-null  int64  \n",
      " 19  registered_phones        27000 non-null  int64  \n",
      " 20  payment_type             27000 non-null  object \n",
      " 21  waiting_4_loan           27000 non-null  int64  \n",
      " 22  cancelled_loan           27000 non-null  int64  \n",
      " 23  received_loan            27000 non-null  int64  \n",
      " 24  rejected_loan            27000 non-null  int64  \n",
      " 25  zodiac_sign              27000 non-null  object \n",
      " 26  left_for_two_month_plus  27000 non-null  int64  \n",
      " 27  left_for_one_month       27000 non-null  int64  \n",
      " 28  rewards_earned           23773 non-null  float64\n",
      " 29  reward_rate              27000 non-null  float64\n",
      " 30  is_referred              27000 non-null  int64  \n",
      "dtypes: float64(4), int64(24), object(3)\n",
      "memory usage: 6.4+ MB\n"
     ]
    }
   ],
   "source": [
    "df_churndata.info()"
   ]
  },
  {
   "cell_type": "code",
   "execution_count": 367,
   "metadata": {},
   "outputs": [
    {
     "data": {
      "text/plain": [
       "user                       False\n",
       "churn                      False\n",
       "age                         True\n",
       "housing                    False\n",
       "credit_score                True\n",
       "deposits                   False\n",
       "withdrawal                 False\n",
       "purchases_partners         False\n",
       "purchases                  False\n",
       "cc_taken                   False\n",
       "cc_recommended             False\n",
       "cc_disliked                False\n",
       "cc_liked                   False\n",
       "cc_application_begin       False\n",
       "app_downloaded             False\n",
       "web_user                   False\n",
       "app_web_user               False\n",
       "ios_user                   False\n",
       "android_user               False\n",
       "registered_phones          False\n",
       "payment_type               False\n",
       "waiting_4_loan             False\n",
       "cancelled_loan             False\n",
       "received_loan              False\n",
       "rejected_loan              False\n",
       "zodiac_sign                False\n",
       "left_for_two_month_plus    False\n",
       "left_for_one_month         False\n",
       "rewards_earned              True\n",
       "reward_rate                False\n",
       "is_referred                False\n",
       "dtype: bool"
      ]
     },
     "execution_count": 367,
     "metadata": {},
     "output_type": "execute_result"
    }
   ],
   "source": [
    "df_churndata.isna().any()"
   ]
  },
  {
   "cell_type": "code",
   "execution_count": 368,
   "metadata": {},
   "outputs": [
    {
     "data": {
      "text/plain": [
       "user                       False\n",
       "churn                      False\n",
       "age                         True\n",
       "housing                    False\n",
       "credit_score                True\n",
       "deposits                   False\n",
       "withdrawal                 False\n",
       "purchases_partners         False\n",
       "purchases                  False\n",
       "cc_taken                   False\n",
       "cc_recommended             False\n",
       "cc_disliked                False\n",
       "cc_liked                   False\n",
       "cc_application_begin       False\n",
       "app_downloaded             False\n",
       "web_user                   False\n",
       "app_web_user               False\n",
       "ios_user                   False\n",
       "android_user               False\n",
       "registered_phones          False\n",
       "payment_type               False\n",
       "waiting_4_loan             False\n",
       "cancelled_loan             False\n",
       "received_loan              False\n",
       "rejected_loan              False\n",
       "zodiac_sign                False\n",
       "left_for_two_month_plus    False\n",
       "left_for_one_month         False\n",
       "rewards_earned              True\n",
       "reward_rate                False\n",
       "is_referred                False\n",
       "dtype: bool"
      ]
     },
     "execution_count": 368,
     "metadata": {},
     "output_type": "execute_result"
    }
   ],
   "source": [
    "df_churndata.isnull().any()"
   ]
  },
  {
   "cell_type": "code",
   "execution_count": 369,
   "metadata": {},
   "outputs": [
    {
     "data": {
      "text/plain": [
       "(27000, 31)"
      ]
     },
     "execution_count": 369,
     "metadata": {},
     "output_type": "execute_result"
    }
   ],
   "source": [
    "df_churndata.isna().sum()\n",
    "df_churndata.shape"
   ]
  },
  {
   "cell_type": "code",
   "execution_count": 370,
   "metadata": {},
   "outputs": [],
   "source": [
    "df_churndata = df_churndata.drop(columns=['reward_rate','credit_score'],axis = 1)"
   ]
  },
  {
   "cell_type": "code",
   "execution_count": 371,
   "metadata": {},
   "outputs": [
    {
     "data": {
      "text/plain": [
       "Index(['user', 'churn', 'age', 'housing', 'deposits', 'withdrawal',\n",
       "       'purchases_partners', 'purchases', 'cc_taken', 'cc_recommended',\n",
       "       'cc_disliked', 'cc_liked', 'cc_application_begin', 'app_downloaded',\n",
       "       'web_user', 'app_web_user', 'ios_user', 'android_user',\n",
       "       'registered_phones', 'payment_type', 'waiting_4_loan', 'cancelled_loan',\n",
       "       'received_loan', 'rejected_loan', 'zodiac_sign',\n",
       "       'left_for_two_month_plus', 'left_for_one_month', 'rewards_earned',\n",
       "       'is_referred'],\n",
       "      dtype='object')"
      ]
     },
     "execution_count": 371,
     "metadata": {},
     "output_type": "execute_result"
    }
   ],
   "source": [
    "df_churndata.columns"
   ]
  },
  {
   "cell_type": "code",
   "execution_count": 372,
   "metadata": {},
   "outputs": [],
   "source": [
    "#removing the rows were age data is missing\n",
    "df_churndata = df_churndata[pd.notnull(df_churndata['age'])]"
   ]
  },
  {
   "cell_type": "code",
   "execution_count": 373,
   "metadata": {},
   "outputs": [
    {
     "data": {
      "text/plain": [
       "(26996, 29)"
      ]
     },
     "execution_count": 373,
     "metadata": {},
     "output_type": "execute_result"
    }
   ],
   "source": [
    "df_churndata.shape"
   ]
  },
  {
   "cell_type": "code",
   "execution_count": 374,
   "metadata": {},
   "outputs": [],
   "source": [
    "df_churndata_2 = df_churndata.drop(columns=['churn','user'])"
   ]
  },
  {
   "cell_type": "code",
   "execution_count": 375,
   "metadata": {
    "scrolled": true
   },
   "outputs": [
    {
     "name": "stdout",
     "output_type": "stream",
     "text": [
      "age\n",
      "housing\n",
      "deposits\n",
      "withdrawal\n",
      "purchases_partners\n",
      "purchases\n",
      "cc_taken\n",
      "cc_recommended\n",
      "cc_disliked\n",
      "cc_liked\n",
      "cc_application_begin\n",
      "app_downloaded\n",
      "web_user\n",
      "app_web_user\n",
      "ios_user\n",
      "android_user\n",
      "registered_phones\n",
      "payment_type\n",
      "waiting_4_loan\n",
      "cancelled_loan\n",
      "received_loan\n",
      "rejected_loan\n",
      "zodiac_sign\n",
      "left_for_two_month_plus\n",
      "left_for_one_month\n",
      "rewards_earned\n",
      "is_referred\n"
     ]
    }
   ],
   "source": [
    "for i in df_churndata_2.columns:\n",
    "    print(i)"
   ]
  },
  {
   "cell_type": "code",
   "execution_count": 376,
   "metadata": {},
   "outputs": [],
   "source": [
    "#for i in df_churndata_2.columns:\n",
    "   # f, axes = plt.subplots(df_churndata_2.shape[0], 2, figsize=(7, 7), sharex=True)\n",
    "    #sns.distplot( df_churndata_2[i] , color=\"skyblue\", ax=axes[0, 0])\n",
    "   # sns.distplot( df_churndata_2[i] , color=\"skyblue\", ax=axes[0, 0])\n",
    "   ### sns.distplot( df_churndata_2[i] , color=\"skyblue\", ax=axes[0, 0])\n",
    "   # sns.distplot( df_churndata_2[i] , color=\"skyblue\", ax=axes[0, 0])\n",
    "   # sns.distplot( df[\"sepal_width\"] , color=\"olive\", ax=axes[0, 1])\n",
    "   # sns.distplot( df[\"petal_length\"] , color=\"gold\", ax=axes[1, 0])\n",
    "   # sns.distplot( df[\"petal_width\"] , color=\"teal\", ax=axes[1, 1])"
   ]
  },
  {
   "cell_type": "code",
   "execution_count": 377,
   "metadata": {},
   "outputs": [],
   "source": [
    "\n",
    "#fig, axs = plt.subplots(1, 2, sharey=True, tight_layout=True)"
   ]
  },
  {
   "cell_type": "code",
   "execution_count": 378,
   "metadata": {},
   "outputs": [
    {
     "data": {
      "text/plain": [
       "\"''\\nfig, axs = plt.subplots(10, 2, sharey=True, tight_layout=True)\\nfor i in range(1,10):\\n    \\n    plt.hist(df_churndata_2.iloc[:,i])\""
      ]
     },
     "execution_count": 378,
     "metadata": {},
     "output_type": "execute_result"
    }
   ],
   "source": [
    "'''''\n",
    "fig, axs = plt.subplots(10, 2, sharey=True, tight_layout=True)\n",
    "for i in range(1,10):\n",
    "    \n",
    "    plt.hist(df_churndata_2.iloc[:,i])'''\n",
    "    "
   ]
  },
  {
   "cell_type": "code",
   "execution_count": 379,
   "metadata": {},
   "outputs": [
    {
     "data": {
      "text/plain": [
       "Index(['age', 'housing', 'deposits', 'withdrawal', 'purchases_partners',\n",
       "       'purchases', 'cc_taken', 'cc_recommended', 'cc_disliked', 'cc_liked',\n",
       "       'cc_application_begin', 'app_downloaded', 'web_user', 'app_web_user',\n",
       "       'ios_user', 'android_user', 'registered_phones', 'payment_type',\n",
       "       'waiting_4_loan', 'cancelled_loan', 'received_loan', 'rejected_loan',\n",
       "       'zodiac_sign', 'left_for_two_month_plus', 'left_for_one_month',\n",
       "       'rewards_earned', 'is_referred'],\n",
       "      dtype='object')"
      ]
     },
     "execution_count": 379,
     "metadata": {},
     "output_type": "execute_result"
    }
   ],
   "source": [
    "df_churndata_2.columns"
   ]
  },
  {
   "cell_type": "code",
   "execution_count": 380,
   "metadata": {},
   "outputs": [
    {
     "data": {
      "image/png": "[encoded data removed]",
      "text/plain": [
       "<Figure size 720x7200 with 30 Axes>"
      ]
     },
     "metadata": {
      "needs_background": "light"
     },
     "output_type": "display_data"
    }
   ],
   "source": [
    "%matplotlib inline\n",
    "fig, axes = plt.subplots(30, 1, figsize=(10, 100),squeeze=False)\n",
    "f=axes.flatten()\n",
    "for i, feature in enumerate(df_churndata_2.columns):\n",
    "    \n",
    " f[i].hist(df_churndata_2[feature], bins = 40)\n",
    " f[i].set_xlabel(df_churndata_2.columns[i])\n",
    "plt.show()\n",
    "\n",
    "    \n",
    "\n",
    "\n",
    " \n",
    "\n"
   ]
  },
  {
   "cell_type": "code",
   "execution_count": 381,
   "metadata": {},
   "outputs": [],
   "source": [
    "df_churndata_3 = df_churndata[['housing','is_referred','app_downloaded','web_user','app_web_user','zodiac_sign']]"
   ]
  },
  {
   "cell_type": "code",
   "execution_count": 382,
   "metadata": {},
   "outputs": [
    {
     "data": {
      "text/html": [
       "<div>\n",
       "<style scoped>\n",
       "    .dataframe tbody tr th:only-of-type {\n",
       "        vertical-align: middle;\n",
       "    }\n",
       "\n",
       "    .dataframe tbody tr th {\n",
       "        vertical-align: top;\n",
       "    }\n",
       "\n",
       "    .dataframe thead th {\n",
       "        text-align: right;\n",
       "    }\n",
       "</style>\n",
       "<table border=\"1\" class=\"dataframe\">\n",
       "  <thead>\n",
       "    <tr style=\"text-align: right;\">\n",
       "      <th></th>\n",
       "      <th>housing</th>\n",
       "      <th>is_referred</th>\n",
       "      <th>app_downloaded</th>\n",
       "      <th>web_user</th>\n",
       "      <th>app_web_user</th>\n",
       "      <th>zodiac_sign</th>\n",
       "    </tr>\n",
       "  </thead>\n",
       "  <tbody>\n",
       "    <tr>\n",
       "      <th>0</th>\n",
       "      <td>na</td>\n",
       "      <td>0</td>\n",
       "      <td>1</td>\n",
       "      <td>1</td>\n",
       "      <td>1</td>\n",
       "      <td>Leo</td>\n",
       "    </tr>\n",
       "    <tr>\n",
       "      <th>1</th>\n",
       "      <td>R</td>\n",
       "      <td>1</td>\n",
       "      <td>1</td>\n",
       "      <td>1</td>\n",
       "      <td>1</td>\n",
       "      <td>Leo</td>\n",
       "    </tr>\n",
       "    <tr>\n",
       "      <th>2</th>\n",
       "      <td>R</td>\n",
       "      <td>0</td>\n",
       "      <td>1</td>\n",
       "      <td>0</td>\n",
       "      <td>0</td>\n",
       "      <td>Capricorn</td>\n",
       "    </tr>\n",
       "  </tbody>\n",
       "</table>\n",
       "</div>"
      ],
      "text/plain": [
       "  housing  is_referred  app_downloaded  web_user  app_web_user zodiac_sign\n",
       "0      na            0               1         1             1         Leo\n",
       "1       R            1               1         1             1         Leo\n",
       "2       R            0               1         0             0   Capricorn"
      ]
     },
     "execution_count": 382,
     "metadata": {},
     "output_type": "execute_result"
    }
   ],
   "source": [
    "df_churndata_3.head(3)"
   ]
  },
  {
   "cell_type": "code",
   "execution_count": 383,
   "metadata": {},
   "outputs": [
    {
     "data": {
      "text/plain": [
       "6"
      ]
     },
     "execution_count": 383,
     "metadata": {},
     "output_type": "execute_result"
    }
   ],
   "source": [
    "len(df_churndata_3.columns)"
   ]
  },
  {
   "cell_type": "code",
   "execution_count": 384,
   "metadata": {},
   "outputs": [
    {
     "data": {
      "image/png": "[encoded data removed]",
      "text/plain": [
       "<Figure size 3600x3600 with 6 Axes>"
      ]
     },
     "metadata": {},
     "output_type": "display_data"
    }
   ],
   "source": [
    "%matplotlib inline\n",
    "fig, axes = plt.subplots(len(df_churndata_3.columns), 1, figsize=(50, 50),squeeze=False)\n",
    "f=axes.flatten()\n",
    "for i, feature in enumerate(df_churndata_3.columns):\n",
    " #index = df_churndata_3.value_counts(normalize = True).index   \n",
    " f[i].pie(df_churndata_3[feature].value_counts(normalize=True).values,autopct='%.0f%%',radius = 0.8,center = (0,0),\\\n",
    "          labels=df_churndata_3[feature].unique())\n",
    " f[i].set_xlabel(df_churndata_3.columns[i])\n",
    "plt.show()\n",
    "\n",
    "    \n",
    "\n",
    "\n",
    " \n",
    "\n"
   ]
  },
  {
   "cell_type": "code",
   "execution_count": 385,
   "metadata": {},
   "outputs": [
    {
     "data": {
      "text/plain": [
       "1    266\n",
       "0    222\n",
       "Name: churn, dtype: int64"
      ]
     },
     "execution_count": 385,
     "metadata": {},
     "output_type": "execute_result"
    }
   ],
   "source": [
    "df_churndata[df_churndata.left_for_one_month ==1].churn.value_counts()"
   ]
  },
  {
   "cell_type": "code",
   "execution_count": 386,
   "metadata": {},
   "outputs": [
    {
     "data": {
      "text/plain": [
       "1    107\n",
       "0     25\n",
       "Name: churn, dtype: int64"
      ]
     },
     "execution_count": 386,
     "metadata": {},
     "output_type": "execute_result"
    }
   ],
   "source": [
    "df_churndata[df_churndata.rejected_loan ==1].churn.value_counts()"
   ]
  },
  {
   "cell_type": "code",
   "execution_count": 387,
   "metadata": {},
   "outputs": [
    {
     "data": {
      "text/plain": [
       "<matplotlib.axes._subplots.AxesSubplot at 0x22da96c9588>"
      ]
     },
     "execution_count": 387,
     "metadata": {},
     "output_type": "execute_result"
    },
    {
     "data": {
      "image/png": "[encoded data removed]",
      "text/plain": [
       "<Figure size 1440x720 with 1 Axes>"
      ]
     },
     "metadata": {
      "needs_background": "light"
     },
     "output_type": "display_data"
    }
   ],
   "source": [
    "df_churndata.drop(columns = ['churn','user','zodiac_sign','housing','payment_type']).corrwith(df_churndata.churn).\\\n",
    "                    plot.bar(figsize = (20,10), title = \"Correlation\", rot = 45,\n",
    "                            grid  = True)"
   ]
  },
  {
   "cell_type": "code",
   "execution_count": 388,
   "metadata": {},
   "outputs": [
    {
     "data": {
      "text/plain": [
       "age                       -0.063206\n",
       "deposits                  -0.135381\n",
       "withdrawal                -0.068543\n",
       "purchases_partners        -0.260784\n",
       "purchases                 -0.135921\n",
       "cc_taken                   0.058383\n",
       "cc_recommended            -0.198570\n",
       "cc_disliked                0.009423\n",
       "cc_liked                   0.010886\n",
       "cc_application_begin      -0.118590\n",
       "app_downloaded            -0.055647\n",
       "web_user                   0.035053\n",
       "app_web_user               0.011092\n",
       "ios_user                   0.017026\n",
       "android_user              -0.036626\n",
       "registered_phones          0.028578\n",
       "waiting_4_loan            -0.013558\n",
       "cancelled_loan             0.035275\n",
       "received_loan              0.049960\n",
       "rejected_loan              0.056457\n",
       "left_for_two_month_plus    0.005094\n",
       "left_for_one_month         0.036134\n",
       "rewards_earned            -0.170863\n",
       "is_referred               -0.083241\n",
       "dtype: float64"
      ]
     },
     "execution_count": 388,
     "metadata": {},
     "output_type": "execute_result"
    }
   ],
   "source": [
    "df_churndata.drop(columns = ['churn','user','zodiac_sign','housing','payment_type']).corrwith(df_churndata.churn)"
   ]
  },
  {
   "cell_type": "markdown",
   "metadata": {},
   "source": [
    "## corelation matrix diagram"
   ]
  },
  {
   "cell_type": "code",
   "execution_count": 389,
   "metadata": {},
   "outputs": [],
   "source": [
    "sns.set(style='white')"
   ]
  },
  {
   "cell_type": "code",
   "execution_count": 390,
   "metadata": {},
   "outputs": [],
   "source": [
    "corr = df_churndata.drop(columns=['user','churn']).corr()"
   ]
  },
  {
   "cell_type": "code",
   "execution_count": 391,
   "metadata": {},
   "outputs": [
    {
     "data": {
      "text/html": [
       "<div>\n",
       "<style scoped>\n",
       "    .dataframe tbody tr th:only-of-type {\n",
       "        vertical-align: middle;\n",
       "    }\n",
       "\n",
       "    .dataframe tbody tr th {\n",
       "        vertical-align: top;\n",
       "    }\n",
       "\n",
       "    .dataframe thead th {\n",
       "        text-align: right;\n",
       "    }\n",
       "</style>\n",
       "<table border=\"1\" class=\"dataframe\">\n",
       "  <thead>\n",
       "    <tr style=\"text-align: right;\">\n",
       "      <th></th>\n",
       "      <th>age</th>\n",
       "      <th>deposits</th>\n",
       "      <th>withdrawal</th>\n",
       "      <th>purchases_partners</th>\n",
       "      <th>purchases</th>\n",
       "      <th>cc_taken</th>\n",
       "      <th>cc_recommended</th>\n",
       "      <th>cc_disliked</th>\n",
       "      <th>cc_liked</th>\n",
       "      <th>cc_application_begin</th>\n",
       "      <th>...</th>\n",
       "      <th>android_user</th>\n",
       "      <th>registered_phones</th>\n",
       "      <th>waiting_4_loan</th>\n",
       "      <th>cancelled_loan</th>\n",
       "      <th>received_loan</th>\n",
       "      <th>rejected_loan</th>\n",
       "      <th>left_for_two_month_plus</th>\n",
       "      <th>left_for_one_month</th>\n",
       "      <th>rewards_earned</th>\n",
       "      <th>is_referred</th>\n",
       "    </tr>\n",
       "  </thead>\n",
       "  <tbody>\n",
       "    <tr>\n",
       "      <th>age</th>\n",
       "      <td>1.000000</td>\n",
       "      <td>0.088757</td>\n",
       "      <td>0.044177</td>\n",
       "      <td>-0.000943</td>\n",
       "      <td>0.088769</td>\n",
       "      <td>0.077199</td>\n",
       "      <td>0.095860</td>\n",
       "      <td>0.005577</td>\n",
       "      <td>0.019512</td>\n",
       "      <td>0.164872</td>\n",
       "      <td>...</td>\n",
       "      <td>-0.210068</td>\n",
       "      <td>-0.001354</td>\n",
       "      <td>0.004164</td>\n",
       "      <td>-0.003713</td>\n",
       "      <td>-0.001808</td>\n",
       "      <td>0.011030</td>\n",
       "      <td>-0.022500</td>\n",
       "      <td>0.034534</td>\n",
       "      <td>0.130108</td>\n",
       "      <td>-0.001557</td>\n",
       "    </tr>\n",
       "    <tr>\n",
       "      <th>deposits</th>\n",
       "      <td>0.088757</td>\n",
       "      <td>1.000000</td>\n",
       "      <td>0.488902</td>\n",
       "      <td>0.326588</td>\n",
       "      <td>0.998554</td>\n",
       "      <td>-0.047058</td>\n",
       "      <td>0.376123</td>\n",
       "      <td>-0.014680</td>\n",
       "      <td>-0.012111</td>\n",
       "      <td>0.452493</td>\n",
       "      <td>...</td>\n",
       "      <td>-0.002171</td>\n",
       "      <td>0.040044</td>\n",
       "      <td>-0.002928</td>\n",
       "      <td>0.011381</td>\n",
       "      <td>-0.009439</td>\n",
       "      <td>-0.018501</td>\n",
       "      <td>0.048370</td>\n",
       "      <td>-0.011354</td>\n",
       "      <td>0.248797</td>\n",
       "      <td>0.229957</td>\n",
       "    </tr>\n",
       "    <tr>\n",
       "      <th>withdrawal</th>\n",
       "      <td>0.044177</td>\n",
       "      <td>0.488902</td>\n",
       "      <td>1.000000</td>\n",
       "      <td>0.223692</td>\n",
       "      <td>0.488285</td>\n",
       "      <td>-0.040658</td>\n",
       "      <td>0.187423</td>\n",
       "      <td>-0.011105</td>\n",
       "      <td>-0.003197</td>\n",
       "      <td>0.295733</td>\n",
       "      <td>...</td>\n",
       "      <td>-0.004248</td>\n",
       "      <td>0.047112</td>\n",
       "      <td>0.003173</td>\n",
       "      <td>-0.002577</td>\n",
       "      <td>-0.006240</td>\n",
       "      <td>-0.009826</td>\n",
       "      <td>0.032079</td>\n",
       "      <td>-0.009968</td>\n",
       "      <td>0.094038</td>\n",
       "      <td>0.211614</td>\n",
       "    </tr>\n",
       "    <tr>\n",
       "      <th>purchases_partners</th>\n",
       "      <td>-0.000943</td>\n",
       "      <td>0.326588</td>\n",
       "      <td>0.223692</td>\n",
       "      <td>1.000000</td>\n",
       "      <td>0.326529</td>\n",
       "      <td>-0.101511</td>\n",
       "      <td>0.594491</td>\n",
       "      <td>-0.035335</td>\n",
       "      <td>-0.033016</td>\n",
       "      <td>0.411316</td>\n",
       "      <td>...</td>\n",
       "      <td>0.048343</td>\n",
       "      <td>0.072166</td>\n",
       "      <td>0.000089</td>\n",
       "      <td>0.014012</td>\n",
       "      <td>-0.015040</td>\n",
       "      <td>-0.030989</td>\n",
       "      <td>0.082333</td>\n",
       "      <td>-0.032074</td>\n",
       "      <td>0.403507</td>\n",
       "      <td>0.301542</td>\n",
       "    </tr>\n",
       "    <tr>\n",
       "      <th>purchases</th>\n",
       "      <td>0.088769</td>\n",
       "      <td>0.998554</td>\n",
       "      <td>0.488285</td>\n",
       "      <td>0.326529</td>\n",
       "      <td>1.000000</td>\n",
       "      <td>-0.047082</td>\n",
       "      <td>0.376666</td>\n",
       "      <td>-0.014583</td>\n",
       "      <td>-0.012194</td>\n",
       "      <td>0.453160</td>\n",
       "      <td>...</td>\n",
       "      <td>-0.001371</td>\n",
       "      <td>0.039667</td>\n",
       "      <td>-0.002712</td>\n",
       "      <td>0.011687</td>\n",
       "      <td>-0.009273</td>\n",
       "      <td>-0.018337</td>\n",
       "      <td>0.048654</td>\n",
       "      <td>-0.011511</td>\n",
       "      <td>0.249345</td>\n",
       "      <td>0.230099</td>\n",
       "    </tr>\n",
       "    <tr>\n",
       "      <th>cc_taken</th>\n",
       "      <td>0.077199</td>\n",
       "      <td>-0.047058</td>\n",
       "      <td>-0.040658</td>\n",
       "      <td>-0.101511</td>\n",
       "      <td>-0.047082</td>\n",
       "      <td>1.000000</td>\n",
       "      <td>0.115100</td>\n",
       "      <td>0.182655</td>\n",
       "      <td>0.168530</td>\n",
       "      <td>0.165640</td>\n",
       "      <td>...</td>\n",
       "      <td>-0.044865</td>\n",
       "      <td>0.042719</td>\n",
       "      <td>-0.006079</td>\n",
       "      <td>0.004685</td>\n",
       "      <td>0.046760</td>\n",
       "      <td>0.006387</td>\n",
       "      <td>-0.016006</td>\n",
       "      <td>0.085823</td>\n",
       "      <td>0.148875</td>\n",
       "      <td>-0.025004</td>\n",
       "    </tr>\n",
       "    <tr>\n",
       "      <th>cc_recommended</th>\n",
       "      <td>0.095860</td>\n",
       "      <td>0.376123</td>\n",
       "      <td>0.187423</td>\n",
       "      <td>0.594491</td>\n",
       "      <td>0.376666</td>\n",
       "      <td>0.115100</td>\n",
       "      <td>1.000000</td>\n",
       "      <td>0.048076</td>\n",
       "      <td>0.055571</td>\n",
       "      <td>0.611520</td>\n",
       "      <td>...</td>\n",
       "      <td>0.093413</td>\n",
       "      <td>0.125966</td>\n",
       "      <td>-0.018087</td>\n",
       "      <td>0.014188</td>\n",
       "      <td>0.044977</td>\n",
       "      <td>-0.037966</td>\n",
       "      <td>0.045625</td>\n",
       "      <td>0.037735</td>\n",
       "      <td>0.915712</td>\n",
       "      <td>0.241626</td>\n",
       "    </tr>\n",
       "    <tr>\n",
       "      <th>cc_disliked</th>\n",
       "      <td>0.005577</td>\n",
       "      <td>-0.014680</td>\n",
       "      <td>-0.011105</td>\n",
       "      <td>-0.035335</td>\n",
       "      <td>-0.014583</td>\n",
       "      <td>0.182655</td>\n",
       "      <td>0.048076</td>\n",
       "      <td>1.000000</td>\n",
       "      <td>0.095500</td>\n",
       "      <td>0.083475</td>\n",
       "      <td>...</td>\n",
       "      <td>0.005893</td>\n",
       "      <td>0.025728</td>\n",
       "      <td>-0.002094</td>\n",
       "      <td>0.011349</td>\n",
       "      <td>0.014676</td>\n",
       "      <td>-0.002854</td>\n",
       "      <td>-0.012925</td>\n",
       "      <td>0.033594</td>\n",
       "      <td>0.060708</td>\n",
       "      <td>-0.009285</td>\n",
       "    </tr>\n",
       "    <tr>\n",
       "      <th>cc_liked</th>\n",
       "      <td>0.019512</td>\n",
       "      <td>-0.012111</td>\n",
       "      <td>-0.003197</td>\n",
       "      <td>-0.033016</td>\n",
       "      <td>-0.012194</td>\n",
       "      <td>0.168530</td>\n",
       "      <td>0.055571</td>\n",
       "      <td>0.095500</td>\n",
       "      <td>1.000000</td>\n",
       "      <td>0.068826</td>\n",
       "      <td>...</td>\n",
       "      <td>-0.005965</td>\n",
       "      <td>0.025381</td>\n",
       "      <td>-0.001984</td>\n",
       "      <td>0.002677</td>\n",
       "      <td>0.021603</td>\n",
       "      <td>-0.001630</td>\n",
       "      <td>-0.007150</td>\n",
       "      <td>0.007706</td>\n",
       "      <td>0.065415</td>\n",
       "      <td>-0.012215</td>\n",
       "    </tr>\n",
       "    <tr>\n",
       "      <th>cc_application_begin</th>\n",
       "      <td>0.164872</td>\n",
       "      <td>0.452493</td>\n",
       "      <td>0.295733</td>\n",
       "      <td>0.411316</td>\n",
       "      <td>0.453160</td>\n",
       "      <td>0.165640</td>\n",
       "      <td>0.611520</td>\n",
       "      <td>0.083475</td>\n",
       "      <td>0.068826</td>\n",
       "      <td>1.000000</td>\n",
       "      <td>...</td>\n",
       "      <td>-0.009366</td>\n",
       "      <td>0.101539</td>\n",
       "      <td>-0.001645</td>\n",
       "      <td>0.008788</td>\n",
       "      <td>0.029661</td>\n",
       "      <td>-0.021088</td>\n",
       "      <td>0.031599</td>\n",
       "      <td>0.047561</td>\n",
       "      <td>0.496164</td>\n",
       "      <td>0.272574</td>\n",
       "    </tr>\n",
       "    <tr>\n",
       "      <th>app_downloaded</th>\n",
       "      <td>-0.113648</td>\n",
       "      <td>0.081717</td>\n",
       "      <td>0.064956</td>\n",
       "      <td>0.148423</td>\n",
       "      <td>0.081647</td>\n",
       "      <td>0.037674</td>\n",
       "      <td>0.231652</td>\n",
       "      <td>0.012775</td>\n",
       "      <td>0.012293</td>\n",
       "      <td>0.145665</td>\n",
       "      <td>...</td>\n",
       "      <td>0.266326</td>\n",
       "      <td>0.102973</td>\n",
       "      <td>0.003205</td>\n",
       "      <td>-0.010095</td>\n",
       "      <td>0.016053</td>\n",
       "      <td>-0.004323</td>\n",
       "      <td>-0.014080</td>\n",
       "      <td>0.005457</td>\n",
       "      <td>-0.012447</td>\n",
       "      <td>0.152472</td>\n",
       "    </tr>\n",
       "    <tr>\n",
       "      <th>web_user</th>\n",
       "      <td>0.215194</td>\n",
       "      <td>0.076792</td>\n",
       "      <td>0.047372</td>\n",
       "      <td>0.063708</td>\n",
       "      <td>0.076392</td>\n",
       "      <td>0.057646</td>\n",
       "      <td>0.130145</td>\n",
       "      <td>0.018129</td>\n",
       "      <td>0.022415</td>\n",
       "      <td>0.172971</td>\n",
       "      <td>...</td>\n",
       "      <td>-0.113570</td>\n",
       "      <td>0.066851</td>\n",
       "      <td>-0.017310</td>\n",
       "      <td>0.023472</td>\n",
       "      <td>0.027444</td>\n",
       "      <td>0.013028</td>\n",
       "      <td>0.048120</td>\n",
       "      <td>0.037097</td>\n",
       "      <td>0.144730</td>\n",
       "      <td>0.053898</td>\n",
       "    </tr>\n",
       "    <tr>\n",
       "      <th>app_web_user</th>\n",
       "      <td>0.163852</td>\n",
       "      <td>0.108327</td>\n",
       "      <td>0.072647</td>\n",
       "      <td>0.122143</td>\n",
       "      <td>0.107905</td>\n",
       "      <td>0.071845</td>\n",
       "      <td>0.221319</td>\n",
       "      <td>0.023045</td>\n",
       "      <td>0.026994</td>\n",
       "      <td>0.228963</td>\n",
       "      <td>...</td>\n",
       "      <td>-0.005246</td>\n",
       "      <td>0.107045</td>\n",
       "      <td>-0.015901</td>\n",
       "      <td>0.019556</td>\n",
       "      <td>0.033043</td>\n",
       "      <td>0.010531</td>\n",
       "      <td>0.040415</td>\n",
       "      <td>0.039131</td>\n",
       "      <td>0.145389</td>\n",
       "      <td>0.114101</td>\n",
       "    </tr>\n",
       "    <tr>\n",
       "      <th>ios_user</th>\n",
       "      <td>0.161702</td>\n",
       "      <td>0.042230</td>\n",
       "      <td>0.039020</td>\n",
       "      <td>0.029793</td>\n",
       "      <td>0.041387</td>\n",
       "      <td>0.063824</td>\n",
       "      <td>0.023953</td>\n",
       "      <td>0.002125</td>\n",
       "      <td>0.015128</td>\n",
       "      <td>0.088433</td>\n",
       "      <td>...</td>\n",
       "      <td>-0.840084</td>\n",
       "      <td>0.085816</td>\n",
       "      <td>-0.005877</td>\n",
       "      <td>-0.012354</td>\n",
       "      <td>-0.004224</td>\n",
       "      <td>-0.002180</td>\n",
       "      <td>-0.043450</td>\n",
       "      <td>0.011799</td>\n",
       "      <td>-0.033841</td>\n",
       "      <td>0.081334</td>\n",
       "    </tr>\n",
       "    <tr>\n",
       "      <th>android_user</th>\n",
       "      <td>-0.210068</td>\n",
       "      <td>-0.002171</td>\n",
       "      <td>-0.004248</td>\n",
       "      <td>0.048343</td>\n",
       "      <td>-0.001371</td>\n",
       "      <td>-0.044865</td>\n",
       "      <td>0.093413</td>\n",
       "      <td>0.005893</td>\n",
       "      <td>-0.005965</td>\n",
       "      <td>-0.009366</td>\n",
       "      <td>...</td>\n",
       "      <td>1.000000</td>\n",
       "      <td>0.089020</td>\n",
       "      <td>0.007207</td>\n",
       "      <td>0.005362</td>\n",
       "      <td>0.013326</td>\n",
       "      <td>0.000523</td>\n",
       "      <td>0.038742</td>\n",
       "      <td>-0.008793</td>\n",
       "      <td>0.042909</td>\n",
       "      <td>-0.003460</td>\n",
       "    </tr>\n",
       "    <tr>\n",
       "      <th>registered_phones</th>\n",
       "      <td>-0.001354</td>\n",
       "      <td>0.040044</td>\n",
       "      <td>0.047112</td>\n",
       "      <td>0.072166</td>\n",
       "      <td>0.039667</td>\n",
       "      <td>0.042719</td>\n",
       "      <td>0.125966</td>\n",
       "      <td>0.025728</td>\n",
       "      <td>0.025381</td>\n",
       "      <td>0.101539</td>\n",
       "      <td>...</td>\n",
       "      <td>0.089020</td>\n",
       "      <td>1.000000</td>\n",
       "      <td>-0.010978</td>\n",
       "      <td>0.003028</td>\n",
       "      <td>0.036832</td>\n",
       "      <td>0.005485</td>\n",
       "      <td>0.024703</td>\n",
       "      <td>0.031541</td>\n",
       "      <td>0.085868</td>\n",
       "      <td>0.068209</td>\n",
       "    </tr>\n",
       "    <tr>\n",
       "      <th>waiting_4_loan</th>\n",
       "      <td>0.004164</td>\n",
       "      <td>-0.002928</td>\n",
       "      <td>0.003173</td>\n",
       "      <td>0.000089</td>\n",
       "      <td>-0.002712</td>\n",
       "      <td>-0.006079</td>\n",
       "      <td>-0.018087</td>\n",
       "      <td>-0.002094</td>\n",
       "      <td>-0.001984</td>\n",
       "      <td>-0.001645</td>\n",
       "      <td>...</td>\n",
       "      <td>0.007207</td>\n",
       "      <td>-0.010978</td>\n",
       "      <td>1.000000</td>\n",
       "      <td>0.017738</td>\n",
       "      <td>-0.004904</td>\n",
       "      <td>-0.002526</td>\n",
       "      <td>-0.013788</td>\n",
       "      <td>0.010565</td>\n",
       "      <td>-0.024061</td>\n",
       "      <td>-0.002499</td>\n",
       "    </tr>\n",
       "    <tr>\n",
       "      <th>cancelled_loan</th>\n",
       "      <td>-0.003713</td>\n",
       "      <td>0.011381</td>\n",
       "      <td>-0.002577</td>\n",
       "      <td>0.014012</td>\n",
       "      <td>0.011687</td>\n",
       "      <td>0.004685</td>\n",
       "      <td>0.014188</td>\n",
       "      <td>0.011349</td>\n",
       "      <td>0.002677</td>\n",
       "      <td>0.008788</td>\n",
       "      <td>...</td>\n",
       "      <td>0.005362</td>\n",
       "      <td>0.003028</td>\n",
       "      <td>0.017738</td>\n",
       "      <td>1.000000</td>\n",
       "      <td>0.052553</td>\n",
       "      <td>0.037190</td>\n",
       "      <td>0.009271</td>\n",
       "      <td>0.011903</td>\n",
       "      <td>0.014314</td>\n",
       "      <td>-0.006175</td>\n",
       "    </tr>\n",
       "    <tr>\n",
       "      <th>received_loan</th>\n",
       "      <td>-0.001808</td>\n",
       "      <td>-0.009439</td>\n",
       "      <td>-0.006240</td>\n",
       "      <td>-0.015040</td>\n",
       "      <td>-0.009273</td>\n",
       "      <td>0.046760</td>\n",
       "      <td>0.044977</td>\n",
       "      <td>0.014676</td>\n",
       "      <td>0.021603</td>\n",
       "      <td>0.029661</td>\n",
       "      <td>...</td>\n",
       "      <td>0.013326</td>\n",
       "      <td>0.036832</td>\n",
       "      <td>-0.004904</td>\n",
       "      <td>0.052553</td>\n",
       "      <td>1.000000</td>\n",
       "      <td>0.002381</td>\n",
       "      <td>0.008658</td>\n",
       "      <td>0.023146</td>\n",
       "      <td>0.050554</td>\n",
       "      <td>-0.020918</td>\n",
       "    </tr>\n",
       "    <tr>\n",
       "      <th>rejected_loan</th>\n",
       "      <td>0.011030</td>\n",
       "      <td>-0.018501</td>\n",
       "      <td>-0.009826</td>\n",
       "      <td>-0.030989</td>\n",
       "      <td>-0.018337</td>\n",
       "      <td>0.006387</td>\n",
       "      <td>-0.037966</td>\n",
       "      <td>-0.002854</td>\n",
       "      <td>-0.001630</td>\n",
       "      <td>-0.021088</td>\n",
       "      <td>...</td>\n",
       "      <td>0.000523</td>\n",
       "      <td>0.005485</td>\n",
       "      <td>-0.002526</td>\n",
       "      <td>0.037190</td>\n",
       "      <td>0.002381</td>\n",
       "      <td>1.000000</td>\n",
       "      <td>0.001545</td>\n",
       "      <td>-0.001539</td>\n",
       "      <td>-0.038062</td>\n",
       "      <td>-0.022780</td>\n",
       "    </tr>\n",
       "    <tr>\n",
       "      <th>left_for_two_month_plus</th>\n",
       "      <td>-0.022500</td>\n",
       "      <td>0.048370</td>\n",
       "      <td>0.032079</td>\n",
       "      <td>0.082333</td>\n",
       "      <td>0.048654</td>\n",
       "      <td>-0.016006</td>\n",
       "      <td>0.045625</td>\n",
       "      <td>-0.012925</td>\n",
       "      <td>-0.007150</td>\n",
       "      <td>0.031599</td>\n",
       "      <td>...</td>\n",
       "      <td>0.038742</td>\n",
       "      <td>0.024703</td>\n",
       "      <td>-0.013788</td>\n",
       "      <td>0.009271</td>\n",
       "      <td>0.008658</td>\n",
       "      <td>0.001545</td>\n",
       "      <td>1.000000</td>\n",
       "      <td>0.017877</td>\n",
       "      <td>0.038980</td>\n",
       "      <td>0.031459</td>\n",
       "    </tr>\n",
       "    <tr>\n",
       "      <th>left_for_one_month</th>\n",
       "      <td>0.034534</td>\n",
       "      <td>-0.011354</td>\n",
       "      <td>-0.009968</td>\n",
       "      <td>-0.032074</td>\n",
       "      <td>-0.011511</td>\n",
       "      <td>0.085823</td>\n",
       "      <td>0.037735</td>\n",
       "      <td>0.033594</td>\n",
       "      <td>0.007706</td>\n",
       "      <td>0.047561</td>\n",
       "      <td>...</td>\n",
       "      <td>-0.008793</td>\n",
       "      <td>0.031541</td>\n",
       "      <td>0.010565</td>\n",
       "      <td>0.011903</td>\n",
       "      <td>0.023146</td>\n",
       "      <td>-0.001539</td>\n",
       "      <td>0.017877</td>\n",
       "      <td>1.000000</td>\n",
       "      <td>0.059718</td>\n",
       "      <td>-0.037725</td>\n",
       "    </tr>\n",
       "    <tr>\n",
       "      <th>rewards_earned</th>\n",
       "      <td>0.130108</td>\n",
       "      <td>0.248797</td>\n",
       "      <td>0.094038</td>\n",
       "      <td>0.403507</td>\n",
       "      <td>0.249345</td>\n",
       "      <td>0.148875</td>\n",
       "      <td>0.915712</td>\n",
       "      <td>0.060708</td>\n",
       "      <td>0.065415</td>\n",
       "      <td>0.496164</td>\n",
       "      <td>...</td>\n",
       "      <td>0.042909</td>\n",
       "      <td>0.085868</td>\n",
       "      <td>-0.024061</td>\n",
       "      <td>0.014314</td>\n",
       "      <td>0.050554</td>\n",
       "      <td>-0.038062</td>\n",
       "      <td>0.038980</td>\n",
       "      <td>0.059718</td>\n",
       "      <td>1.000000</td>\n",
       "      <td>0.104785</td>\n",
       "    </tr>\n",
       "    <tr>\n",
       "      <th>is_referred</th>\n",
       "      <td>-0.001557</td>\n",
       "      <td>0.229957</td>\n",
       "      <td>0.211614</td>\n",
       "      <td>0.301542</td>\n",
       "      <td>0.230099</td>\n",
       "      <td>-0.025004</td>\n",
       "      <td>0.241626</td>\n",
       "      <td>-0.009285</td>\n",
       "      <td>-0.012215</td>\n",
       "      <td>0.272574</td>\n",
       "      <td>...</td>\n",
       "      <td>-0.003460</td>\n",
       "      <td>0.068209</td>\n",
       "      <td>-0.002499</td>\n",
       "      <td>-0.006175</td>\n",
       "      <td>-0.020918</td>\n",
       "      <td>-0.022780</td>\n",
       "      <td>0.031459</td>\n",
       "      <td>-0.037725</td>\n",
       "      <td>0.104785</td>\n",
       "      <td>1.000000</td>\n",
       "    </tr>\n",
       "  </tbody>\n",
       "</table>\n",
       "<p>24 rows × 24 columns</p>\n",
       "</div>"
      ],
      "text/plain": [
       "                              age  deposits  withdrawal  purchases_partners  \\\n",
       "age                      1.000000  0.088757    0.044177           -0.000943   \n",
       "deposits                 0.088757  1.000000    0.488902            0.326588   \n",
       "withdrawal               0.044177  0.488902    1.000000            0.223692   \n",
       "purchases_partners      -0.000943  0.326588    0.223692            1.000000   \n",
       "purchases                0.088769  0.998554    0.488285            0.326529   \n",
       "cc_taken                 0.077199 -0.047058   -0.040658           -0.101511   \n",
       "cc_recommended           0.095860  0.376123    0.187423            0.594491   \n",
       "cc_disliked              0.005577 -0.014680   -0.011105           -0.035335   \n",
       "cc_liked                 0.019512 -0.012111   -0.003197           -0.033016   \n",
       "cc_application_begin     0.164872  0.452493    0.295733            0.411316   \n",
       "app_downloaded          -0.113648  0.081717    0.064956            0.148423   \n",
       "web_user                 0.215194  0.076792    0.047372            0.063708   \n",
       "app_web_user             0.163852  0.108327    0.072647            0.122143   \n",
       "ios_user                 0.161702  0.042230    0.039020            0.029793   \n",
       "android_user            -0.210068 -0.002171   -0.004248            0.048343   \n",
       "registered_phones       -0.001354  0.040044    0.047112            0.072166   \n",
       "waiting_4_loan           0.004164 -0.002928    0.003173            0.000089   \n",
       "cancelled_loan          -0.003713  0.011381   -0.002577            0.014012   \n",
       "received_loan           -0.001808 -0.009439   -0.006240           -0.015040   \n",
       "rejected_loan            0.011030 -0.018501   -0.009826           -0.030989   \n",
       "left_for_two_month_plus -0.022500  0.048370    0.032079            0.082333   \n",
       "left_for_one_month       0.034534 -0.011354   -0.009968           -0.032074   \n",
       "rewards_earned           0.130108  0.248797    0.094038            0.403507   \n",
       "is_referred             -0.001557  0.229957    0.211614            0.301542   \n",
       "\n",
       "                         purchases  cc_taken  cc_recommended  cc_disliked  \\\n",
       "age                       0.088769  0.077199        0.095860     0.005577   \n",
       "deposits                  0.998554 -0.047058        0.376123    -0.014680   \n",
       "withdrawal                0.488285 -0.040658        0.187423    -0.011105   \n",
       "purchases_partners        0.326529 -0.101511        0.594491    -0.035335   \n",
       "purchases                 1.000000 -0.047082        0.376666    -0.014583   \n",
       "cc_taken                 -0.047082  1.000000        0.115100     0.182655   \n",
       "cc_recommended            0.376666  0.115100        1.000000     0.048076   \n",
       "cc_disliked              -0.014583  0.182655        0.048076     1.000000   \n",
       "cc_liked                 -0.012194  0.168530        0.055571     0.095500   \n",
       "cc_application_begin      0.453160  0.165640        0.611520     0.083475   \n",
       "app_downloaded            0.081647  0.037674        0.231652     0.012775   \n",
       "web_user                  0.076392  0.057646        0.130145     0.018129   \n",
       "app_web_user              0.107905  0.071845        0.221319     0.023045   \n",
       "ios_user                  0.041387  0.063824        0.023953     0.002125   \n",
       "android_user             -0.001371 -0.044865        0.093413     0.005893   \n",
       "registered_phones         0.039667  0.042719        0.125966     0.025728   \n",
       "waiting_4_loan           -0.002712 -0.006079       -0.018087    -0.002094   \n",
       "cancelled_loan            0.011687  0.004685        0.014188     0.011349   \n",
       "received_loan            -0.009273  0.046760        0.044977     0.014676   \n",
       "rejected_loan            -0.018337  0.006387       -0.037966    -0.002854   \n",
       "left_for_two_month_plus   0.048654 -0.016006        0.045625    -0.012925   \n",
       "left_for_one_month       -0.011511  0.085823        0.037735     0.033594   \n",
       "rewards_earned            0.249345  0.148875        0.915712     0.060708   \n",
       "is_referred               0.230099 -0.025004        0.241626    -0.009285   \n",
       "\n",
       "                         cc_liked  cc_application_begin  ...  android_user  \\\n",
       "age                      0.019512              0.164872  ...     -0.210068   \n",
       "deposits                -0.012111              0.452493  ...     -0.002171   \n",
       "withdrawal              -0.003197              0.295733  ...     -0.004248   \n",
       "purchases_partners      -0.033016              0.411316  ...      0.048343   \n",
       "purchases               -0.012194              0.453160  ...     -0.001371   \n",
       "cc_taken                 0.168530              0.165640  ...     -0.044865   \n",
       "cc_recommended           0.055571              0.611520  ...      0.093413   \n",
       "cc_disliked              0.095500              0.083475  ...      0.005893   \n",
       "cc_liked                 1.000000              0.068826  ...     -0.005965   \n",
       "cc_application_begin     0.068826              1.000000  ...     -0.009366   \n",
       "app_downloaded           0.012293              0.145665  ...      0.266326   \n",
       "web_user                 0.022415              0.172971  ...     -0.113570   \n",
       "app_web_user             0.026994              0.228963  ...     -0.005246   \n",
       "ios_user                 0.015128              0.088433  ...     -0.840084   \n",
       "android_user            -0.005965             -0.009366  ...      1.000000   \n",
       "registered_phones        0.025381              0.101539  ...      0.089020   \n",
       "waiting_4_loan          -0.001984             -0.001645  ...      0.007207   \n",
       "cancelled_loan           0.002677              0.008788  ...      0.005362   \n",
       "received_loan            0.021603              0.029661  ...      0.013326   \n",
       "rejected_loan           -0.001630             -0.021088  ...      0.000523   \n",
       "left_for_two_month_plus -0.007150              0.031599  ...      0.038742   \n",
       "left_for_one_month       0.007706              0.047561  ...     -0.008793   \n",
       "rewards_earned           0.065415              0.496164  ...      0.042909   \n",
       "is_referred             -0.012215              0.272574  ...     -0.003460   \n",
       "\n",
       "                         registered_phones  waiting_4_loan  cancelled_loan  \\\n",
       "age                              -0.001354        0.004164       -0.003713   \n",
       "deposits                          0.040044       -0.002928        0.011381   \n",
       "withdrawal                        0.047112        0.003173       -0.002577   \n",
       "purchases_partners                0.072166        0.000089        0.014012   \n",
       "purchases                         0.039667       -0.002712        0.011687   \n",
       "cc_taken                          0.042719       -0.006079        0.004685   \n",
       "cc_recommended                    0.125966       -0.018087        0.014188   \n",
       "cc_disliked                       0.025728       -0.002094        0.011349   \n",
       "cc_liked                          0.025381       -0.001984        0.002677   \n",
       "cc_application_begin              0.101539       -0.001645        0.008788   \n",
       "app_downloaded                    0.102973        0.003205       -0.010095   \n",
       "web_user                          0.066851       -0.017310        0.023472   \n",
       "app_web_user                      0.107045       -0.015901        0.019556   \n",
       "ios_user                          0.085816       -0.005877       -0.012354   \n",
       "android_user                      0.089020        0.007207        0.005362   \n",
       "registered_phones                 1.000000       -0.010978        0.003028   \n",
       "waiting_4_loan                   -0.010978        1.000000        0.017738   \n",
       "cancelled_loan                    0.003028        0.017738        1.000000   \n",
       "received_loan                     0.036832       -0.004904        0.052553   \n",
       "rejected_loan                     0.005485       -0.002526        0.037190   \n",
       "left_for_two_month_plus           0.024703       -0.013788        0.009271   \n",
       "left_for_one_month                0.031541        0.010565        0.011903   \n",
       "rewards_earned                    0.085868       -0.024061        0.014314   \n",
       "is_referred                       0.068209       -0.002499       -0.006175   \n",
       "\n",
       "                         received_loan  rejected_loan  \\\n",
       "age                          -0.001808       0.011030   \n",
       "deposits                     -0.009439      -0.018501   \n",
       "withdrawal                   -0.006240      -0.009826   \n",
       "purchases_partners           -0.015040      -0.030989   \n",
       "purchases                    -0.009273      -0.018337   \n",
       "cc_taken                      0.046760       0.006387   \n",
       "cc_recommended                0.044977      -0.037966   \n",
       "cc_disliked                   0.014676      -0.002854   \n",
       "cc_liked                      0.021603      -0.001630   \n",
       "cc_application_begin          0.029661      -0.021088   \n",
       "app_downloaded                0.016053      -0.004323   \n",
       "web_user                      0.027444       0.013028   \n",
       "app_web_user                  0.033043       0.010531   \n",
       "ios_user                     -0.004224      -0.002180   \n",
       "android_user                  0.013326       0.000523   \n",
       "registered_phones             0.036832       0.005485   \n",
       "waiting_4_loan               -0.004904      -0.002526   \n",
       "cancelled_loan                0.052553       0.037190   \n",
       "received_loan                 1.000000       0.002381   \n",
       "rejected_loan                 0.002381       1.000000   \n",
       "left_for_two_month_plus       0.008658       0.001545   \n",
       "left_for_one_month            0.023146      -0.001539   \n",
       "rewards_earned                0.050554      -0.038062   \n",
       "is_referred                  -0.020918      -0.022780   \n",
       "\n",
       "                         left_for_two_month_plus  left_for_one_month  \\\n",
       "age                                    -0.022500            0.034534   \n",
       "deposits                                0.048370           -0.011354   \n",
       "withdrawal                              0.032079           -0.009968   \n",
       "purchases_partners                      0.082333           -0.032074   \n",
       "purchases                               0.048654           -0.011511   \n",
       "cc_taken                               -0.016006            0.085823   \n",
       "cc_recommended                          0.045625            0.037735   \n",
       "cc_disliked                            -0.012925            0.033594   \n",
       "cc_liked                               -0.007150            0.007706   \n",
       "cc_application_begin                    0.031599            0.047561   \n",
       "app_downloaded                         -0.014080            0.005457   \n",
       "web_user                                0.048120            0.037097   \n",
       "app_web_user                            0.040415            0.039131   \n",
       "ios_user                               -0.043450            0.011799   \n",
       "android_user                            0.038742           -0.008793   \n",
       "registered_phones                       0.024703            0.031541   \n",
       "waiting_4_loan                         -0.013788            0.010565   \n",
       "cancelled_loan                          0.009271            0.011903   \n",
       "received_loan                           0.008658            0.023146   \n",
       "rejected_loan                           0.001545           -0.001539   \n",
       "left_for_two_month_plus                 1.000000            0.017877   \n",
       "left_for_one_month                      0.017877            1.000000   \n",
       "rewards_earned                          0.038980            0.059718   \n",
       "is_referred                             0.031459           -0.037725   \n",
       "\n",
       "                         rewards_earned  is_referred  \n",
       "age                            0.130108    -0.001557  \n",
       "deposits                       0.248797     0.229957  \n",
       "withdrawal                     0.094038     0.211614  \n",
       "purchases_partners             0.403507     0.301542  \n",
       "purchases                      0.249345     0.230099  \n",
       "cc_taken                       0.148875    -0.025004  \n",
       "cc_recommended                 0.915712     0.241626  \n",
       "cc_disliked                    0.060708    -0.009285  \n",
       "cc_liked                       0.065415    -0.012215  \n",
       "cc_application_begin           0.496164     0.272574  \n",
       "app_downloaded                -0.012447     0.152472  \n",
       "web_user                       0.144730     0.053898  \n",
       "app_web_user                   0.145389     0.114101  \n",
       "ios_user                      -0.033841     0.081334  \n",
       "android_user                   0.042909    -0.003460  \n",
       "registered_phones              0.085868     0.068209  \n",
       "waiting_4_loan                -0.024061    -0.002499  \n",
       "cancelled_loan                 0.014314    -0.006175  \n",
       "received_loan                  0.050554    -0.020918  \n",
       "rejected_loan                 -0.038062    -0.022780  \n",
       "left_for_two_month_plus        0.038980     0.031459  \n",
       "left_for_one_month             0.059718    -0.037725  \n",
       "rewards_earned                 1.000000     0.104785  \n",
       "is_referred                    0.104785     1.000000  \n",
       "\n",
       "[24 rows x 24 columns]"
      ]
     },
     "execution_count": 391,
     "metadata": {},
     "output_type": "execute_result"
    }
   ],
   "source": [
    "corr"
   ]
  },
  {
   "cell_type": "code",
   "execution_count": 392,
   "metadata": {},
   "outputs": [
    {
     "data": {
      "text/plain": [
       "<matplotlib.axes._subplots.AxesSubplot at 0x22da9b14588>"
      ]
     },
     "execution_count": 392,
     "metadata": {},
     "output_type": "execute_result"
    },
    {
     "data": {
      "image/png": "[encoded data removed]",
      "text/plain": [
       "<Figure size 1080x1080 with 2 Axes>"
      ]
     },
     "metadata": {},
     "output_type": "display_data"
    }
   ],
   "source": [
    "\n",
    "f, ax = plt.subplots(figsize = (15,15))\n",
    "sns.heatmap(corr,cmap=cmap)"
   ]
  },
  {
   "cell_type": "code",
   "execution_count": 393,
   "metadata": {},
   "outputs": [],
   "source": [
    "mask = np.zeros_like(corr,dtype=np.bool)\n",
    "mask[np.triu_indices_from(mask)] = True"
   ]
  },
  {
   "cell_type": "code",
   "execution_count": 394,
   "metadata": {},
   "outputs": [
    {
     "data": {
      "text/plain": [
       "<matplotlib.axes._subplots.AxesSubplot at 0x22daa05d288>"
      ]
     },
     "execution_count": 394,
     "metadata": {},
     "output_type": "execute_result"
    },
    {
     "data": {
      "image/png": "[encoded data removed]",
      "text/plain": [
       "<Figure size 1080x1080 with 2 Axes>"
      ]
     },
     "metadata": {},
     "output_type": "display_data"
    }
   ],
   "source": [
    "f, ax = plt.subplots(figsize = (15,15))\n",
    "cmap = sns.diverging_palette(500,10, as_cmap= True)\n",
    "sns.heatmap(corr,  cmap = cmap, center=0,\n",
    "           square=True)"
   ]
  },
  {
   "cell_type": "code",
   "execution_count": 395,
   "metadata": {},
   "outputs": [
    {
     "data": {
      "text/plain": [
       "<matplotlib.colors.LinearSegmentedColormap at 0x22daa19a808>"
      ]
     },
     "execution_count": 395,
     "metadata": {},
     "output_type": "execute_result"
    }
   ],
   "source": [
    "cmap"
   ]
  },
  {
   "cell_type": "code",
   "execution_count": 396,
   "metadata": {},
   "outputs": [],
   "source": [
    "dmap = sns.diverging_palette(500,10, as_cmap= False)"
   ]
  },
  {
   "cell_type": "code",
   "execution_count": 397,
   "metadata": {},
   "outputs": [
    {
     "data": {
      "text/plain": [
       "[(0.22708394455496284, 0.5223412071210161, 0.3424906574041789),\n",
       " (0.5221593716850426, 0.710056010464153, 0.5956022169124737),\n",
       " (0.8172347988151224, 0.89777081380729, 0.8487137764207686),\n",
       " (0.9632833568933667, 0.8055338995788012, 0.8173119687047948),\n",
       " (0.9089102455307556, 0.5175520461248753, 0.5467720764444421),\n",
       " (0.8545371341681446, 0.22957019267094914, 0.2762321841840895)]"
      ]
     },
     "execution_count": 397,
     "metadata": {},
     "output_type": "execute_result"
    }
   ],
   "source": [
    "dmap"
   ]
  },
  {
   "cell_type": "code",
   "execution_count": 398,
   "metadata": {},
   "outputs": [],
   "source": [
    "df_churndata = df_churndata.drop(columns=['android_user'])"
   ]
  },
  {
   "cell_type": "code",
   "execution_count": 399,
   "metadata": {},
   "outputs": [
    {
     "data": {
      "text/html": [
       "<div>\n",
       "<style scoped>\n",
       "    .dataframe tbody tr th:only-of-type {\n",
       "        vertical-align: middle;\n",
       "    }\n",
       "\n",
       "    .dataframe tbody tr th {\n",
       "        vertical-align: top;\n",
       "    }\n",
       "\n",
       "    .dataframe thead th {\n",
       "        text-align: right;\n",
       "    }\n",
       "</style>\n",
       "<table border=\"1\" class=\"dataframe\">\n",
       "  <thead>\n",
       "    <tr style=\"text-align: right;\">\n",
       "      <th></th>\n",
       "      <th>user</th>\n",
       "      <th>churn</th>\n",
       "      <th>age</th>\n",
       "      <th>housing</th>\n",
       "      <th>deposits</th>\n",
       "      <th>withdrawal</th>\n",
       "      <th>purchases_partners</th>\n",
       "      <th>purchases</th>\n",
       "      <th>cc_taken</th>\n",
       "      <th>cc_recommended</th>\n",
       "      <th>...</th>\n",
       "      <th>payment_type</th>\n",
       "      <th>waiting_4_loan</th>\n",
       "      <th>cancelled_loan</th>\n",
       "      <th>received_loan</th>\n",
       "      <th>rejected_loan</th>\n",
       "      <th>zodiac_sign</th>\n",
       "      <th>left_for_two_month_plus</th>\n",
       "      <th>left_for_one_month</th>\n",
       "      <th>rewards_earned</th>\n",
       "      <th>is_referred</th>\n",
       "    </tr>\n",
       "  </thead>\n",
       "  <tbody>\n",
       "    <tr>\n",
       "      <th>0</th>\n",
       "      <td>55409</td>\n",
       "      <td>0</td>\n",
       "      <td>37.0</td>\n",
       "      <td>na</td>\n",
       "      <td>0</td>\n",
       "      <td>0</td>\n",
       "      <td>0</td>\n",
       "      <td>0</td>\n",
       "      <td>0</td>\n",
       "      <td>0</td>\n",
       "      <td>...</td>\n",
       "      <td>Bi-Weekly</td>\n",
       "      <td>0</td>\n",
       "      <td>0</td>\n",
       "      <td>0</td>\n",
       "      <td>0</td>\n",
       "      <td>Leo</td>\n",
       "      <td>1</td>\n",
       "      <td>0</td>\n",
       "      <td>NaN</td>\n",
       "      <td>0</td>\n",
       "    </tr>\n",
       "    <tr>\n",
       "      <th>1</th>\n",
       "      <td>23547</td>\n",
       "      <td>0</td>\n",
       "      <td>28.0</td>\n",
       "      <td>R</td>\n",
       "      <td>0</td>\n",
       "      <td>0</td>\n",
       "      <td>1</td>\n",
       "      <td>0</td>\n",
       "      <td>0</td>\n",
       "      <td>96</td>\n",
       "      <td>...</td>\n",
       "      <td>Weekly</td>\n",
       "      <td>0</td>\n",
       "      <td>0</td>\n",
       "      <td>0</td>\n",
       "      <td>0</td>\n",
       "      <td>Leo</td>\n",
       "      <td>0</td>\n",
       "      <td>0</td>\n",
       "      <td>44.0</td>\n",
       "      <td>1</td>\n",
       "    </tr>\n",
       "  </tbody>\n",
       "</table>\n",
       "<p>2 rows × 28 columns</p>\n",
       "</div>"
      ],
      "text/plain": [
       "    user  churn   age housing  deposits  withdrawal  purchases_partners  \\\n",
       "0  55409      0  37.0      na         0           0                   0   \n",
       "1  23547      0  28.0       R         0           0                   1   \n",
       "\n",
       "   purchases  cc_taken  cc_recommended  ...  payment_type  waiting_4_loan  \\\n",
       "0          0         0               0  ...     Bi-Weekly               0   \n",
       "1          0         0              96  ...        Weekly               0   \n",
       "\n",
       "   cancelled_loan  received_loan  rejected_loan  zodiac_sign  \\\n",
       "0               0              0              0          Leo   \n",
       "1               0              0              0          Leo   \n",
       "\n",
       "   left_for_two_month_plus  left_for_one_month rewards_earned  is_referred  \n",
       "0                        1                   0            NaN            0  \n",
       "1                        0                   0           44.0            1  \n",
       "\n",
       "[2 rows x 28 columns]"
      ]
     },
     "execution_count": 399,
     "metadata": {},
     "output_type": "execute_result"
    }
   ],
   "source": [
    "df_churndata.head(2)"
   ]
  },
  {
   "cell_type": "code",
   "execution_count": 400,
   "metadata": {},
   "outputs": [
    {
     "name": "stdout",
     "output_type": "stream",
     "text": [
      "<class 'pandas.core.frame.DataFrame'>\n",
      "Int64Index: 26996 entries, 0 to 26999\n",
      "Data columns (total 28 columns):\n",
      " #   Column                   Non-Null Count  Dtype  \n",
      "---  ------                   --------------  -----  \n",
      " 0   user                     26996 non-null  int64  \n",
      " 1   churn                    26996 non-null  int64  \n",
      " 2   age                      26996 non-null  float64\n",
      " 3   housing                  26996 non-null  object \n",
      " 4   deposits                 26996 non-null  int64  \n",
      " 5   withdrawal               26996 non-null  int64  \n",
      " 6   purchases_partners       26996 non-null  int64  \n",
      " 7   purchases                26996 non-null  int64  \n",
      " 8   cc_taken                 26996 non-null  int64  \n",
      " 9   cc_recommended           26996 non-null  int64  \n",
      " 10  cc_disliked              26996 non-null  int64  \n",
      " 11  cc_liked                 26996 non-null  int64  \n",
      " 12  cc_application_begin     26996 non-null  int64  \n",
      " 13  app_downloaded           26996 non-null  int64  \n",
      " 14  web_user                 26996 non-null  int64  \n",
      " 15  app_web_user             26996 non-null  int64  \n",
      " 16  ios_user                 26996 non-null  int64  \n",
      " 17  registered_phones        26996 non-null  int64  \n",
      " 18  payment_type             26996 non-null  object \n",
      " 19  waiting_4_loan           26996 non-null  int64  \n",
      " 20  cancelled_loan           26996 non-null  int64  \n",
      " 21  received_loan            26996 non-null  int64  \n",
      " 22  rejected_loan            26996 non-null  int64  \n",
      " 23  zodiac_sign              26996 non-null  object \n",
      " 24  left_for_two_month_plus  26996 non-null  int64  \n",
      " 25  left_for_one_month       26996 non-null  int64  \n",
      " 26  rewards_earned           23773 non-null  float64\n",
      " 27  is_referred              26996 non-null  int64  \n",
      "dtypes: float64(2), int64(23), object(3)\n",
      "memory usage: 6.0+ MB\n"
     ]
    }
   ],
   "source": [
    "df_churndata.info()"
   ]
  },
  {
   "cell_type": "code",
   "execution_count": 401,
   "metadata": {},
   "outputs": [
    {
     "name": "stdout",
     "output_type": "stream",
     "text": [
      "<class 'pandas.core.frame.DataFrame'>\n",
      "Int64Index: 26996 entries, 0 to 26999\n",
      "Data columns (total 27 columns):\n",
      " #   Column                   Non-Null Count  Dtype  \n",
      "---  ------                   --------------  -----  \n",
      " 0   age                      26996 non-null  float64\n",
      " 1   housing                  26996 non-null  object \n",
      " 2   deposits                 26996 non-null  int64  \n",
      " 3   withdrawal               26996 non-null  int64  \n",
      " 4   purchases_partners       26996 non-null  int64  \n",
      " 5   purchases                26996 non-null  int64  \n",
      " 6   cc_taken                 26996 non-null  int64  \n",
      " 7   cc_recommended           26996 non-null  int64  \n",
      " 8   cc_disliked              26996 non-null  int64  \n",
      " 9   cc_liked                 26996 non-null  int64  \n",
      " 10  cc_application_begin     26996 non-null  int64  \n",
      " 11  app_downloaded           26996 non-null  int64  \n",
      " 12  web_user                 26996 non-null  int64  \n",
      " 13  app_web_user             26996 non-null  int64  \n",
      " 14  ios_user                 26996 non-null  int64  \n",
      " 15  android_user             26996 non-null  int64  \n",
      " 16  registered_phones        26996 non-null  int64  \n",
      " 17  payment_type             26996 non-null  object \n",
      " 18  waiting_4_loan           26996 non-null  int64  \n",
      " 19  cancelled_loan           26996 non-null  int64  \n",
      " 20  received_loan            26996 non-null  int64  \n",
      " 21  rejected_loan            26996 non-null  int64  \n",
      " 22  zodiac_sign              26996 non-null  object \n",
      " 23  left_for_two_month_plus  26996 non-null  int64  \n",
      " 24  left_for_one_month       26996 non-null  int64  \n",
      " 25  rewards_earned           23773 non-null  float64\n",
      " 26  is_referred              26996 non-null  int64  \n",
      "dtypes: float64(2), int64(22), object(3)\n",
      "memory usage: 5.8+ MB\n"
     ]
    }
   ],
   "source": [
    "df_churndata_2.info()"
   ]
  },
  {
   "cell_type": "code",
   "execution_count": 402,
   "metadata": {},
   "outputs": [
    {
     "data": {
      "text/html": [
       "<div>\n",
       "<style scoped>\n",
       "    .dataframe tbody tr th:only-of-type {\n",
       "        vertical-align: middle;\n",
       "    }\n",
       "\n",
       "    .dataframe tbody tr th {\n",
       "        vertical-align: top;\n",
       "    }\n",
       "\n",
       "    .dataframe thead th {\n",
       "        text-align: right;\n",
       "    }\n",
       "</style>\n",
       "<table border=\"1\" class=\"dataframe\">\n",
       "  <thead>\n",
       "    <tr style=\"text-align: right;\">\n",
       "      <th></th>\n",
       "      <th>user</th>\n",
       "      <th>churn</th>\n",
       "      <th>age</th>\n",
       "      <th>housing</th>\n",
       "      <th>deposits</th>\n",
       "      <th>withdrawal</th>\n",
       "      <th>purchases_partners</th>\n",
       "      <th>purchases</th>\n",
       "      <th>cc_taken</th>\n",
       "      <th>cc_recommended</th>\n",
       "      <th>...</th>\n",
       "      <th>payment_type</th>\n",
       "      <th>waiting_4_loan</th>\n",
       "      <th>cancelled_loan</th>\n",
       "      <th>received_loan</th>\n",
       "      <th>rejected_loan</th>\n",
       "      <th>zodiac_sign</th>\n",
       "      <th>left_for_two_month_plus</th>\n",
       "      <th>left_for_one_month</th>\n",
       "      <th>rewards_earned</th>\n",
       "      <th>is_referred</th>\n",
       "    </tr>\n",
       "  </thead>\n",
       "  <tbody>\n",
       "    <tr>\n",
       "      <th>0</th>\n",
       "      <td>55409</td>\n",
       "      <td>0</td>\n",
       "      <td>37.0</td>\n",
       "      <td>na</td>\n",
       "      <td>0</td>\n",
       "      <td>0</td>\n",
       "      <td>0</td>\n",
       "      <td>0</td>\n",
       "      <td>0</td>\n",
       "      <td>0</td>\n",
       "      <td>...</td>\n",
       "      <td>Bi-Weekly</td>\n",
       "      <td>0</td>\n",
       "      <td>0</td>\n",
       "      <td>0</td>\n",
       "      <td>0</td>\n",
       "      <td>Leo</td>\n",
       "      <td>1</td>\n",
       "      <td>0</td>\n",
       "      <td>NaN</td>\n",
       "      <td>0</td>\n",
       "    </tr>\n",
       "    <tr>\n",
       "      <th>1</th>\n",
       "      <td>23547</td>\n",
       "      <td>0</td>\n",
       "      <td>28.0</td>\n",
       "      <td>R</td>\n",
       "      <td>0</td>\n",
       "      <td>0</td>\n",
       "      <td>1</td>\n",
       "      <td>0</td>\n",
       "      <td>0</td>\n",
       "      <td>96</td>\n",
       "      <td>...</td>\n",
       "      <td>Weekly</td>\n",
       "      <td>0</td>\n",
       "      <td>0</td>\n",
       "      <td>0</td>\n",
       "      <td>0</td>\n",
       "      <td>Leo</td>\n",
       "      <td>0</td>\n",
       "      <td>0</td>\n",
       "      <td>44.0</td>\n",
       "      <td>1</td>\n",
       "    </tr>\n",
       "    <tr>\n",
       "      <th>2</th>\n",
       "      <td>58313</td>\n",
       "      <td>0</td>\n",
       "      <td>35.0</td>\n",
       "      <td>R</td>\n",
       "      <td>47</td>\n",
       "      <td>2</td>\n",
       "      <td>86</td>\n",
       "      <td>47</td>\n",
       "      <td>0</td>\n",
       "      <td>285</td>\n",
       "      <td>...</td>\n",
       "      <td>Semi-Monthly</td>\n",
       "      <td>0</td>\n",
       "      <td>0</td>\n",
       "      <td>0</td>\n",
       "      <td>0</td>\n",
       "      <td>Capricorn</td>\n",
       "      <td>1</td>\n",
       "      <td>0</td>\n",
       "      <td>65.0</td>\n",
       "      <td>0</td>\n",
       "    </tr>\n",
       "  </tbody>\n",
       "</table>\n",
       "<p>3 rows × 28 columns</p>\n",
       "</div>"
      ],
      "text/plain": [
       "    user  churn   age housing  deposits  withdrawal  purchases_partners  \\\n",
       "0  55409      0  37.0      na         0           0                   0   \n",
       "1  23547      0  28.0       R         0           0                   1   \n",
       "2  58313      0  35.0       R        47           2                  86   \n",
       "\n",
       "   purchases  cc_taken  cc_recommended  ...  payment_type  waiting_4_loan  \\\n",
       "0          0         0               0  ...     Bi-Weekly               0   \n",
       "1          0         0              96  ...        Weekly               0   \n",
       "2         47         0             285  ...  Semi-Monthly               0   \n",
       "\n",
       "   cancelled_loan  received_loan  rejected_loan  zodiac_sign  \\\n",
       "0               0              0              0          Leo   \n",
       "1               0              0              0          Leo   \n",
       "2               0              0              0    Capricorn   \n",
       "\n",
       "   left_for_two_month_plus  left_for_one_month rewards_earned  is_referred  \n",
       "0                        1                   0            NaN            0  \n",
       "1                        0                   0           44.0            1  \n",
       "2                        1                   0           65.0            0  \n",
       "\n",
       "[3 rows x 28 columns]"
      ]
     },
     "execution_count": 402,
     "metadata": {},
     "output_type": "execute_result"
    }
   ],
   "source": [
    "df_churndata.head(3)"
   ]
  },
  {
   "cell_type": "code",
   "execution_count": 403,
   "metadata": {},
   "outputs": [],
   "source": [
    "again = pd.read_csv('churn_data.csv')"
   ]
  },
  {
   "cell_type": "code",
   "execution_count": 404,
   "metadata": {},
   "outputs": [
    {
     "data": {
      "text/html": [
       "<div>\n",
       "<style scoped>\n",
       "    .dataframe tbody tr th:only-of-type {\n",
       "        vertical-align: middle;\n",
       "    }\n",
       "\n",
       "    .dataframe tbody tr th {\n",
       "        vertical-align: top;\n",
       "    }\n",
       "\n",
       "    .dataframe thead th {\n",
       "        text-align: right;\n",
       "    }\n",
       "</style>\n",
       "<table border=\"1\" class=\"dataframe\">\n",
       "  <thead>\n",
       "    <tr style=\"text-align: right;\">\n",
       "      <th></th>\n",
       "      <th>user</th>\n",
       "      <th>churn</th>\n",
       "      <th>age</th>\n",
       "      <th>housing</th>\n",
       "      <th>credit_score</th>\n",
       "      <th>deposits</th>\n",
       "      <th>withdrawal</th>\n",
       "      <th>purchases_partners</th>\n",
       "      <th>purchases</th>\n",
       "      <th>cc_taken</th>\n",
       "      <th>...</th>\n",
       "      <th>waiting_4_loan</th>\n",
       "      <th>cancelled_loan</th>\n",
       "      <th>received_loan</th>\n",
       "      <th>rejected_loan</th>\n",
       "      <th>zodiac_sign</th>\n",
       "      <th>left_for_two_month_plus</th>\n",
       "      <th>left_for_one_month</th>\n",
       "      <th>rewards_earned</th>\n",
       "      <th>reward_rate</th>\n",
       "      <th>is_referred</th>\n",
       "    </tr>\n",
       "  </thead>\n",
       "  <tbody>\n",
       "    <tr>\n",
       "      <th>0</th>\n",
       "      <td>55409</td>\n",
       "      <td>0</td>\n",
       "      <td>37.0</td>\n",
       "      <td>na</td>\n",
       "      <td>NaN</td>\n",
       "      <td>0</td>\n",
       "      <td>0</td>\n",
       "      <td>0</td>\n",
       "      <td>0</td>\n",
       "      <td>0</td>\n",
       "      <td>...</td>\n",
       "      <td>0</td>\n",
       "      <td>0</td>\n",
       "      <td>0</td>\n",
       "      <td>0</td>\n",
       "      <td>Leo</td>\n",
       "      <td>1</td>\n",
       "      <td>0</td>\n",
       "      <td>NaN</td>\n",
       "      <td>0.00</td>\n",
       "      <td>0</td>\n",
       "    </tr>\n",
       "    <tr>\n",
       "      <th>1</th>\n",
       "      <td>23547</td>\n",
       "      <td>0</td>\n",
       "      <td>28.0</td>\n",
       "      <td>R</td>\n",
       "      <td>486.0</td>\n",
       "      <td>0</td>\n",
       "      <td>0</td>\n",
       "      <td>1</td>\n",
       "      <td>0</td>\n",
       "      <td>0</td>\n",
       "      <td>...</td>\n",
       "      <td>0</td>\n",
       "      <td>0</td>\n",
       "      <td>0</td>\n",
       "      <td>0</td>\n",
       "      <td>Leo</td>\n",
       "      <td>0</td>\n",
       "      <td>0</td>\n",
       "      <td>44.0</td>\n",
       "      <td>1.47</td>\n",
       "      <td>1</td>\n",
       "    </tr>\n",
       "    <tr>\n",
       "      <th>2</th>\n",
       "      <td>58313</td>\n",
       "      <td>0</td>\n",
       "      <td>35.0</td>\n",
       "      <td>R</td>\n",
       "      <td>561.0</td>\n",
       "      <td>47</td>\n",
       "      <td>2</td>\n",
       "      <td>86</td>\n",
       "      <td>47</td>\n",
       "      <td>0</td>\n",
       "      <td>...</td>\n",
       "      <td>0</td>\n",
       "      <td>0</td>\n",
       "      <td>0</td>\n",
       "      <td>0</td>\n",
       "      <td>Capricorn</td>\n",
       "      <td>1</td>\n",
       "      <td>0</td>\n",
       "      <td>65.0</td>\n",
       "      <td>2.17</td>\n",
       "      <td>0</td>\n",
       "    </tr>\n",
       "  </tbody>\n",
       "</table>\n",
       "<p>3 rows × 31 columns</p>\n",
       "</div>"
      ],
      "text/plain": [
       "    user  churn   age housing  credit_score  deposits  withdrawal  \\\n",
       "0  55409      0  37.0      na           NaN         0           0   \n",
       "1  23547      0  28.0       R         486.0         0           0   \n",
       "2  58313      0  35.0       R         561.0        47           2   \n",
       "\n",
       "   purchases_partners  purchases  cc_taken  ...  waiting_4_loan  \\\n",
       "0                   0          0         0  ...               0   \n",
       "1                   1          0         0  ...               0   \n",
       "2                  86         47         0  ...               0   \n",
       "\n",
       "   cancelled_loan  received_loan  rejected_loan  zodiac_sign  \\\n",
       "0               0              0              0          Leo   \n",
       "1               0              0              0          Leo   \n",
       "2               0              0              0    Capricorn   \n",
       "\n",
       "   left_for_two_month_plus  left_for_one_month  rewards_earned  reward_rate  \\\n",
       "0                        1                   0             NaN         0.00   \n",
       "1                        0                   0            44.0         1.47   \n",
       "2                        1                   0            65.0         2.17   \n",
       "\n",
       "   is_referred  \n",
       "0            0  \n",
       "1            1  \n",
       "2            0  \n",
       "\n",
       "[3 rows x 31 columns]"
      ]
     },
     "execution_count": 404,
     "metadata": {},
     "output_type": "execute_result"
    }
   ],
   "source": [
    "again.head(3)"
   ]
  },
  {
   "cell_type": "code",
   "execution_count": 405,
   "metadata": {},
   "outputs": [
    {
     "name": "stdout",
     "output_type": "stream",
     "text": [
      "<class 'pandas.core.frame.DataFrame'>\n",
      "RangeIndex: 27000 entries, 0 to 26999\n",
      "Data columns (total 31 columns):\n",
      " #   Column                   Non-Null Count  Dtype  \n",
      "---  ------                   --------------  -----  \n",
      " 0   user                     27000 non-null  int64  \n",
      " 1   churn                    27000 non-null  int64  \n",
      " 2   age                      26996 non-null  float64\n",
      " 3   housing                  27000 non-null  object \n",
      " 4   credit_score             18969 non-null  float64\n",
      " 5   deposits                 27000 non-null  int64  \n",
      " 6   withdrawal               27000 non-null  int64  \n",
      " 7   purchases_partners       27000 non-null  int64  \n",
      " 8   purchases                27000 non-null  int64  \n",
      " 9   cc_taken                 27000 non-null  int64  \n",
      " 10  cc_recommended           27000 non-null  int64  \n",
      " 11  cc_disliked              27000 non-null  int64  \n",
      " 12  cc_liked                 27000 non-null  int64  \n",
      " 13  cc_application_begin     27000 non-null  int64  \n",
      " 14  app_downloaded           27000 non-null  int64  \n",
      " 15  web_user                 27000 non-null  int64  \n",
      " 16  app_web_user             27000 non-null  int64  \n",
      " 17  ios_user                 27000 non-null  int64  \n",
      " 18  android_user             27000 non-null  int64  \n",
      " 19  registered_phones        27000 non-null  int64  \n",
      " 20  payment_type             27000 non-null  object \n",
      " 21  waiting_4_loan           27000 non-null  int64  \n",
      " 22  cancelled_loan           27000 non-null  int64  \n",
      " 23  received_loan            27000 non-null  int64  \n",
      " 24  rejected_loan            27000 non-null  int64  \n",
      " 25  zodiac_sign              27000 non-null  object \n",
      " 26  left_for_two_month_plus  27000 non-null  int64  \n",
      " 27  left_for_one_month       27000 non-null  int64  \n",
      " 28  rewards_earned           23773 non-null  float64\n",
      " 29  reward_rate              27000 non-null  float64\n",
      " 30  is_referred              27000 non-null  int64  \n",
      "dtypes: float64(4), int64(24), object(3)\n",
      "memory usage: 6.4+ MB\n"
     ]
    }
   ],
   "source": [
    "again.info()"
   ]
  },
  {
   "cell_type": "code",
   "execution_count": 406,
   "metadata": {},
   "outputs": [
    {
     "data": {
      "text/plain": [
       "user                       False\n",
       "churn                      False\n",
       "age                         True\n",
       "housing                    False\n",
       "credit_score                True\n",
       "deposits                   False\n",
       "withdrawal                 False\n",
       "purchases_partners         False\n",
       "purchases                  False\n",
       "cc_taken                   False\n",
       "cc_recommended             False\n",
       "cc_disliked                False\n",
       "cc_liked                   False\n",
       "cc_application_begin       False\n",
       "app_downloaded             False\n",
       "web_user                   False\n",
       "app_web_user               False\n",
       "ios_user                   False\n",
       "android_user               False\n",
       "registered_phones          False\n",
       "payment_type               False\n",
       "waiting_4_loan             False\n",
       "cancelled_loan             False\n",
       "received_loan              False\n",
       "rejected_loan              False\n",
       "zodiac_sign                False\n",
       "left_for_two_month_plus    False\n",
       "left_for_one_month         False\n",
       "rewards_earned              True\n",
       "reward_rate                False\n",
       "is_referred                False\n",
       "dtype: bool"
      ]
     },
     "execution_count": 406,
     "metadata": {},
     "output_type": "execute_result"
    }
   ],
   "source": [
    "again.isna().any()"
   ]
  },
  {
   "cell_type": "code",
   "execution_count": 407,
   "metadata": {},
   "outputs": [
    {
     "data": {
      "text/plain": [
       "user                          0\n",
       "churn                         0\n",
       "age                           4\n",
       "housing                       0\n",
       "credit_score               8031\n",
       "deposits                      0\n",
       "withdrawal                    0\n",
       "purchases_partners            0\n",
       "purchases                     0\n",
       "cc_taken                      0\n",
       "cc_recommended                0\n",
       "cc_disliked                   0\n",
       "cc_liked                      0\n",
       "cc_application_begin          0\n",
       "app_downloaded                0\n",
       "web_user                      0\n",
       "app_web_user                  0\n",
       "ios_user                      0\n",
       "android_user                  0\n",
       "registered_phones             0\n",
       "payment_type                  0\n",
       "waiting_4_loan                0\n",
       "cancelled_loan                0\n",
       "received_loan                 0\n",
       "rejected_loan                 0\n",
       "zodiac_sign                   0\n",
       "left_for_two_month_plus       0\n",
       "left_for_one_month            0\n",
       "rewards_earned             3227\n",
       "reward_rate                   0\n",
       "is_referred                   0\n",
       "dtype: int64"
      ]
     },
     "execution_count": 407,
     "metadata": {},
     "output_type": "execute_result"
    }
   ],
   "source": [
    "again.isna().sum()"
   ]
  },
  {
   "cell_type": "code",
   "execution_count": 408,
   "metadata": {},
   "outputs": [
    {
     "data": {
      "text/plain": [
       "user                       False\n",
       "churn                      False\n",
       "age                        False\n",
       "housing                    False\n",
       "deposits                   False\n",
       "withdrawal                 False\n",
       "purchases_partners         False\n",
       "purchases                  False\n",
       "cc_taken                   False\n",
       "cc_recommended             False\n",
       "cc_disliked                False\n",
       "cc_liked                   False\n",
       "cc_application_begin       False\n",
       "app_downloaded             False\n",
       "web_user                   False\n",
       "app_web_user               False\n",
       "ios_user                   False\n",
       "registered_phones          False\n",
       "payment_type               False\n",
       "waiting_4_loan             False\n",
       "cancelled_loan             False\n",
       "received_loan              False\n",
       "rejected_loan              False\n",
       "zodiac_sign                False\n",
       "left_for_two_month_plus    False\n",
       "left_for_one_month         False\n",
       "rewards_earned              True\n",
       "is_referred                False\n",
       "dtype: bool"
      ]
     },
     "execution_count": 408,
     "metadata": {},
     "output_type": "execute_result"
    }
   ],
   "source": [
    "df_churndata.isna().any()"
   ]
  },
  {
   "cell_type": "code",
   "execution_count": 409,
   "metadata": {},
   "outputs": [],
   "source": [
    "df_churndata = df_churndata.drop(columns=['rewards_earned'])"
   ]
  },
  {
   "cell_type": "code",
   "execution_count": 410,
   "metadata": {},
   "outputs": [],
   "source": [
    "df_churndata['reward_rate'] = again['reward_rate']"
   ]
  },
  {
   "cell_type": "code",
   "execution_count": 411,
   "metadata": {},
   "outputs": [],
   "source": [
    "df_churndata = df_churndata.drop(columns=['reward_rate'])"
   ]
  },
  {
   "cell_type": "code",
   "execution_count": 412,
   "metadata": {},
   "outputs": [],
   "source": [
    "again = pd.read_csv(\"churn_data.csv\")"
   ]
  },
  {
   "cell_type": "code",
   "execution_count": 413,
   "metadata": {},
   "outputs": [],
   "source": [
    "again = again[pd.notnull(again['age'])]"
   ]
  },
  {
   "cell_type": "code",
   "execution_count": 414,
   "metadata": {},
   "outputs": [],
   "source": [
    "df_churndata['reward_rate'] = again['reward_rate']"
   ]
  },
  {
   "cell_type": "code",
   "execution_count": 415,
   "metadata": {},
   "outputs": [
    {
     "data": {
      "text/plain": [
       "Index(['user', 'churn', 'age', 'housing', 'deposits', 'withdrawal',\n",
       "       'purchases_partners', 'purchases', 'cc_taken', 'cc_recommended',\n",
       "       'cc_disliked', 'cc_liked', 'cc_application_begin', 'app_downloaded',\n",
       "       'web_user', 'app_web_user', 'ios_user', 'registered_phones',\n",
       "       'payment_type', 'waiting_4_loan', 'cancelled_loan', 'received_loan',\n",
       "       'rejected_loan', 'zodiac_sign', 'left_for_two_month_plus',\n",
       "       'left_for_one_month', 'is_referred', 'reward_rate'],\n",
       "      dtype='object')"
      ]
     },
     "execution_count": 415,
     "metadata": {},
     "output_type": "execute_result"
    }
   ],
   "source": [
    "df_churndata.columns"
   ]
  },
  {
   "cell_type": "code",
   "execution_count": 416,
   "metadata": {},
   "outputs": [],
   "source": [
    "user_identifier = df_churndata['user']"
   ]
  },
  {
   "cell_type": "code",
   "execution_count": 417,
   "metadata": {},
   "outputs": [],
   "source": [
    "df_churndata = df_churndata.drop(columns='user')"
   ]
  },
  {
   "cell_type": "code",
   "execution_count": 418,
   "metadata": {},
   "outputs": [
    {
     "data": {
      "text/plain": [
       "na    13856\n",
       "R     10969\n",
       "O      2171\n",
       "Name: housing, dtype: int64"
      ]
     },
     "execution_count": 418,
     "metadata": {},
     "output_type": "execute_result"
    }
   ],
   "source": [
    "df_churndata.housing.value_counts()"
   ]
  },
  {
   "cell_type": "code",
   "execution_count": 419,
   "metadata": {},
   "outputs": [],
   "source": [
    "df_churndata = pd.get_dummies(df_churndata)"
   ]
  },
  {
   "cell_type": "code",
   "execution_count": 420,
   "metadata": {},
   "outputs": [
    {
     "data": {
      "text/html": [
       "<div>\n",
       "<style scoped>\n",
       "    .dataframe tbody tr th:only-of-type {\n",
       "        vertical-align: middle;\n",
       "    }\n",
       "\n",
       "    .dataframe tbody tr th {\n",
       "        vertical-align: top;\n",
       "    }\n",
       "\n",
       "    .dataframe thead th {\n",
       "        text-align: right;\n",
       "    }\n",
       "</style>\n",
       "<table border=\"1\" class=\"dataframe\">\n",
       "  <thead>\n",
       "    <tr style=\"text-align: right;\">\n",
       "      <th></th>\n",
       "      <th>churn</th>\n",
       "      <th>age</th>\n",
       "      <th>deposits</th>\n",
       "      <th>withdrawal</th>\n",
       "      <th>purchases_partners</th>\n",
       "      <th>purchases</th>\n",
       "      <th>cc_taken</th>\n",
       "      <th>cc_recommended</th>\n",
       "      <th>cc_disliked</th>\n",
       "      <th>cc_liked</th>\n",
       "      <th>...</th>\n",
       "      <th>zodiac_sign_Capricorn</th>\n",
       "      <th>zodiac_sign_Gemini</th>\n",
       "      <th>zodiac_sign_Leo</th>\n",
       "      <th>zodiac_sign_Libra</th>\n",
       "      <th>zodiac_sign_Pisces</th>\n",
       "      <th>zodiac_sign_Sagittarius</th>\n",
       "      <th>zodiac_sign_Scorpio</th>\n",
       "      <th>zodiac_sign_Taurus</th>\n",
       "      <th>zodiac_sign_Virgo</th>\n",
       "      <th>zodiac_sign_na</th>\n",
       "    </tr>\n",
       "  </thead>\n",
       "  <tbody>\n",
       "    <tr>\n",
       "      <th>0</th>\n",
       "      <td>0</td>\n",
       "      <td>37.0</td>\n",
       "      <td>0</td>\n",
       "      <td>0</td>\n",
       "      <td>0</td>\n",
       "      <td>0</td>\n",
       "      <td>0</td>\n",
       "      <td>0</td>\n",
       "      <td>0</td>\n",
       "      <td>0</td>\n",
       "      <td>...</td>\n",
       "      <td>0</td>\n",
       "      <td>0</td>\n",
       "      <td>1</td>\n",
       "      <td>0</td>\n",
       "      <td>0</td>\n",
       "      <td>0</td>\n",
       "      <td>0</td>\n",
       "      <td>0</td>\n",
       "      <td>0</td>\n",
       "      <td>0</td>\n",
       "    </tr>\n",
       "    <tr>\n",
       "      <th>1</th>\n",
       "      <td>0</td>\n",
       "      <td>28.0</td>\n",
       "      <td>0</td>\n",
       "      <td>0</td>\n",
       "      <td>1</td>\n",
       "      <td>0</td>\n",
       "      <td>0</td>\n",
       "      <td>96</td>\n",
       "      <td>0</td>\n",
       "      <td>0</td>\n",
       "      <td>...</td>\n",
       "      <td>0</td>\n",
       "      <td>0</td>\n",
       "      <td>1</td>\n",
       "      <td>0</td>\n",
       "      <td>0</td>\n",
       "      <td>0</td>\n",
       "      <td>0</td>\n",
       "      <td>0</td>\n",
       "      <td>0</td>\n",
       "      <td>0</td>\n",
       "    </tr>\n",
       "  </tbody>\n",
       "</table>\n",
       "<p>2 rows × 45 columns</p>\n",
       "</div>"
      ],
      "text/plain": [
       "   churn   age  deposits  withdrawal  purchases_partners  purchases  cc_taken  \\\n",
       "0      0  37.0         0           0                   0          0         0   \n",
       "1      0  28.0         0           0                   1          0         0   \n",
       "\n",
       "   cc_recommended  cc_disliked  cc_liked  ...  zodiac_sign_Capricorn  \\\n",
       "0               0            0         0  ...                      0   \n",
       "1              96            0         0  ...                      0   \n",
       "\n",
       "   zodiac_sign_Gemini  zodiac_sign_Leo  zodiac_sign_Libra  zodiac_sign_Pisces  \\\n",
       "0                   0                1                  0                   0   \n",
       "1                   0                1                  0                   0   \n",
       "\n",
       "   zodiac_sign_Sagittarius  zodiac_sign_Scorpio  zodiac_sign_Taurus  \\\n",
       "0                        0                    0                   0   \n",
       "1                        0                    0                   0   \n",
       "\n",
       "   zodiac_sign_Virgo  zodiac_sign_na  \n",
       "0                  0               0  \n",
       "1                  0               0  \n",
       "\n",
       "[2 rows x 45 columns]"
      ]
     },
     "execution_count": 420,
     "metadata": {},
     "output_type": "execute_result"
    }
   ],
   "source": [
    "df_churndata.head(2)"
   ]
  },
  {
   "cell_type": "code",
   "execution_count": 421,
   "metadata": {},
   "outputs": [
    {
     "data": {
      "text/plain": [
       "Index(['churn', 'age', 'deposits', 'withdrawal', 'purchases_partners',\n",
       "       'purchases', 'cc_taken', 'cc_recommended', 'cc_disliked', 'cc_liked',\n",
       "       'cc_application_begin', 'app_downloaded', 'web_user', 'app_web_user',\n",
       "       'ios_user', 'registered_phones', 'waiting_4_loan', 'cancelled_loan',\n",
       "       'received_loan', 'rejected_loan', 'left_for_two_month_plus',\n",
       "       'left_for_one_month', 'is_referred', 'reward_rate', 'housing_O',\n",
       "       'housing_R', 'housing_na', 'payment_type_Bi-Weekly',\n",
       "       'payment_type_Monthly', 'payment_type_Semi-Monthly',\n",
       "       'payment_type_Weekly', 'payment_type_na', 'zodiac_sign_Aquarius',\n",
       "       'zodiac_sign_Aries', 'zodiac_sign_Cancer', 'zodiac_sign_Capricorn',\n",
       "       'zodiac_sign_Gemini', 'zodiac_sign_Leo', 'zodiac_sign_Libra',\n",
       "       'zodiac_sign_Pisces', 'zodiac_sign_Sagittarius', 'zodiac_sign_Scorpio',\n",
       "       'zodiac_sign_Taurus', 'zodiac_sign_Virgo', 'zodiac_sign_na'],\n",
       "      dtype='object')"
      ]
     },
     "execution_count": 421,
     "metadata": {},
     "output_type": "execute_result"
    }
   ],
   "source": [
    "df_churndata.columns"
   ]
  },
  {
   "cell_type": "code",
   "execution_count": 422,
   "metadata": {},
   "outputs": [],
   "source": [
    "df_churndata = df_churndata.drop(columns=['housing_na','zodiac_sign_na',\n",
    "                                         'payment_type_na'])"
   ]
  },
  {
   "cell_type": "code",
   "execution_count": 423,
   "metadata": {},
   "outputs": [],
   "source": [
    "from sklearn.model_selection import train_test_split"
   ]
  },
  {
   "cell_type": "code",
   "execution_count": 424,
   "metadata": {},
   "outputs": [],
   "source": [
    "X_train, X_test, y_train, y_test = train_test_split(df_churndata.drop(columns=['churn'])\n",
    "                                                   , df_churndata['churn'],test_size = 0.2,\n",
    "                                                   random_state = 0)"
   ]
  },
  {
   "cell_type": "code",
   "execution_count": 425,
   "metadata": {},
   "outputs": [
    {
     "data": {
      "text/plain": [
       "0    12656\n",
       "1     8940\n",
       "Name: churn, dtype: int64"
      ]
     },
     "execution_count": 425,
     "metadata": {},
     "output_type": "execute_result"
    }
   ],
   "source": [
    "y_train.value_counts()"
   ]
  },
  {
   "cell_type": "code",
   "execution_count": 426,
   "metadata": {},
   "outputs": [
    {
     "data": {
      "text/plain": [
       "array([0, 0, 1, ..., 0, 0, 0], dtype=int64)"
      ]
     },
     "execution_count": 426,
     "metadata": {},
     "output_type": "execute_result"
    }
   ],
   "source": [
    "y_train.values"
   ]
  },
  {
   "cell_type": "code",
   "execution_count": 427,
   "metadata": {},
   "outputs": [],
   "source": [
    "pos_index = y_train[y_train.values == 1].index\n",
    "neg_index = y_train[y_train.values == 0].index"
   ]
  },
  {
   "cell_type": "code",
   "execution_count": 428,
   "metadata": {},
   "outputs": [],
   "source": [
    "import random"
   ]
  },
  {
   "cell_type": "code",
   "execution_count": 429,
   "metadata": {},
   "outputs": [],
   "source": [
    "if len(pos_index) > len(neg_index):\n",
    "    higher = pos_index\n",
    "    lower = neg_index\n",
    "else:\n",
    "    lower = pos_index\n",
    "    higher = neg_index\n",
    "\n",
    "random.seed(0)\n",
    "higher = np.random.choice(higher, size = len(lower))\n",
    "lower = np.asarray(lower)\n",
    "    "
   ]
  },
  {
   "cell_type": "code",
   "execution_count": 430,
   "metadata": {},
   "outputs": [
    {
     "data": {
      "text/plain": [
       "8940"
      ]
     },
     "execution_count": 430,
     "metadata": {},
     "output_type": "execute_result"
    }
   ],
   "source": [
    "len(higher)"
   ]
  },
  {
   "cell_type": "code",
   "execution_count": 431,
   "metadata": {},
   "outputs": [
    {
     "data": {
      "text/plain": [
       "8940"
      ]
     },
     "execution_count": 431,
     "metadata": {},
     "output_type": "execute_result"
    }
   ],
   "source": [
    "len(lower)"
   ]
  },
  {
   "cell_type": "code",
   "execution_count": 432,
   "metadata": {},
   "outputs": [],
   "source": [
    "new_indices = np.concatenate((lower, higher))"
   ]
  },
  {
   "cell_type": "code",
   "execution_count": 433,
   "metadata": {},
   "outputs": [
    {
     "data": {
      "text/plain": [
       "array([11697, 19770,  8356, ...,  4234, 18280,  8214], dtype=int64)"
      ]
     },
     "execution_count": 433,
     "metadata": {},
     "output_type": "execute_result"
    }
   ],
   "source": [
    "new_indices"
   ]
  },
  {
   "cell_type": "code",
   "execution_count": 434,
   "metadata": {},
   "outputs": [
    {
     "data": {
      "text/plain": [
       "17880"
      ]
     },
     "execution_count": 434,
     "metadata": {},
     "output_type": "execute_result"
    }
   ],
   "source": [
    "new_indices.size"
   ]
  },
  {
   "cell_type": "code",
   "execution_count": 435,
   "metadata": {},
   "outputs": [
    {
     "data": {
      "text/plain": [
       "(17880,)"
      ]
     },
     "execution_count": 435,
     "metadata": {},
     "output_type": "execute_result"
    }
   ],
   "source": [
    "new_indices.shape"
   ]
  },
  {
   "cell_type": "code",
   "execution_count": 436,
   "metadata": {},
   "outputs": [
    {
     "data": {
      "text/plain": [
       "array([11697, 19770,  8356, ...,  4234, 18280,  8214], dtype=int64)"
      ]
     },
     "execution_count": 436,
     "metadata": {},
     "output_type": "execute_result"
    }
   ],
   "source": [
    "new_indices"
   ]
  },
  {
   "cell_type": "code",
   "execution_count": 437,
   "metadata": {},
   "outputs": [],
   "source": [
    "X_train = X_train.loc[new_indices,]\n",
    "y_train = y_train.loc[new_indices]"
   ]
  },
  {
   "cell_type": "code",
   "execution_count": 438,
   "metadata": {},
   "outputs": [
    {
     "data": {
      "text/plain": [
       "(17880, 41)"
      ]
     },
     "execution_count": 438,
     "metadata": {},
     "output_type": "execute_result"
    }
   ],
   "source": [
    "X_train.shape"
   ]
  },
  {
   "cell_type": "code",
   "execution_count": 439,
   "metadata": {},
   "outputs": [
    {
     "data": {
      "text/plain": [
       "(17880,)"
      ]
     },
     "execution_count": 439,
     "metadata": {},
     "output_type": "execute_result"
    }
   ],
   "source": [
    "y_train.shape"
   ]
  },
  {
   "cell_type": "code",
   "execution_count": 440,
   "metadata": {},
   "outputs": [],
   "source": [
    "from sklearn.preprocessing import StandardScaler"
   ]
  },
  {
   "cell_type": "code",
   "execution_count": 441,
   "metadata": {},
   "outputs": [],
   "source": [
    "sc_X = StandardScaler()"
   ]
  },
  {
   "cell_type": "code",
   "execution_count": 442,
   "metadata": {},
   "outputs": [],
   "source": [
    "X_train2 = pd.DataFrame(sc_X.fit_transform(X_train))\n",
    "X_test2 = pd.DataFrame(sc_X.transform(X_test))"
   ]
  },
  {
   "cell_type": "code",
   "execution_count": 452,
   "metadata": {},
   "outputs": [],
   "source": [
    "X_train2.columns = X_train.columns\n",
    "X_test.columns = X_test.columns.values\n",
    "X_train2.index = X_train.index.values\n",
    "X_test.index = X_test.index.values\n",
    "X_train = X_train2\n",
    "X_test = X_test2\n"
   ]
  },
  {
   "cell_type": "code",
   "execution_count": 455,
   "metadata": {},
   "outputs": [
    {
     "data": {
      "text/html": [
       "<div>\n",
       "<style scoped>\n",
       "    .dataframe tbody tr th:only-of-type {\n",
       "        vertical-align: middle;\n",
       "    }\n",
       "\n",
       "    .dataframe tbody tr th {\n",
       "        vertical-align: top;\n",
       "    }\n",
       "\n",
       "    .dataframe thead th {\n",
       "        text-align: right;\n",
       "    }\n",
       "</style>\n",
       "<table border=\"1\" class=\"dataframe\">\n",
       "  <thead>\n",
       "    <tr style=\"text-align: right;\">\n",
       "      <th></th>\n",
       "      <th>0</th>\n",
       "      <th>1</th>\n",
       "      <th>2</th>\n",
       "      <th>3</th>\n",
       "      <th>4</th>\n",
       "      <th>5</th>\n",
       "      <th>6</th>\n",
       "      <th>7</th>\n",
       "      <th>8</th>\n",
       "      <th>9</th>\n",
       "      <th>...</th>\n",
       "      <th>31</th>\n",
       "      <th>32</th>\n",
       "      <th>33</th>\n",
       "      <th>34</th>\n",
       "      <th>35</th>\n",
       "      <th>36</th>\n",
       "      <th>37</th>\n",
       "      <th>38</th>\n",
       "      <th>39</th>\n",
       "      <th>40</th>\n",
       "    </tr>\n",
       "  </thead>\n",
       "  <tbody>\n",
       "    <tr>\n",
       "      <th>0</th>\n",
       "      <td>-0.018369</td>\n",
       "      <td>0.880819</td>\n",
       "      <td>-0.288166</td>\n",
       "      <td>-0.613759</td>\n",
       "      <td>0.905316</td>\n",
       "      <td>2.007054</td>\n",
       "      <td>1.234513</td>\n",
       "      <td>-0.071435</td>\n",
       "      <td>-0.068174</td>\n",
       "      <td>1.882615</td>\n",
       "      <td>...</td>\n",
       "      <td>-0.311664</td>\n",
       "      <td>-0.159022</td>\n",
       "      <td>-0.297186</td>\n",
       "      <td>-0.304482</td>\n",
       "      <td>-0.295623</td>\n",
       "      <td>-0.297743</td>\n",
       "      <td>3.517559</td>\n",
       "      <td>-0.28829</td>\n",
       "      <td>-0.30107</td>\n",
       "      <td>-0.318315</td>\n",
       "    </tr>\n",
       "    <tr>\n",
       "      <th>1</th>\n",
       "      <td>-0.721661</td>\n",
       "      <td>-0.357181</td>\n",
       "      <td>-0.288166</td>\n",
       "      <td>2.452658</td>\n",
       "      <td>-0.356841</td>\n",
       "      <td>-0.165887</td>\n",
       "      <td>1.698739</td>\n",
       "      <td>-0.071435</td>\n",
       "      <td>-0.068174</td>\n",
       "      <td>-0.408623</td>\n",
       "      <td>...</td>\n",
       "      <td>-0.311664</td>\n",
       "      <td>-0.159022</td>\n",
       "      <td>3.364898</td>\n",
       "      <td>-0.304482</td>\n",
       "      <td>-0.295623</td>\n",
       "      <td>-0.297743</td>\n",
       "      <td>-0.284288</td>\n",
       "      <td>-0.28829</td>\n",
       "      <td>-0.30107</td>\n",
       "      <td>-0.318315</td>\n",
       "    </tr>\n",
       "  </tbody>\n",
       "</table>\n",
       "<p>2 rows × 41 columns</p>\n",
       "</div>"
      ],
      "text/plain": [
       "         0         1         2         3         4         5         6   \\\n",
       "0 -0.018369  0.880819 -0.288166 -0.613759  0.905316  2.007054  1.234513   \n",
       "1 -0.721661 -0.357181 -0.288166  2.452658 -0.356841 -0.165887  1.698739   \n",
       "\n",
       "         7         8         9   ...        31        32        33        34  \\\n",
       "0 -0.071435 -0.068174  1.882615  ... -0.311664 -0.159022 -0.297186 -0.304482   \n",
       "1 -0.071435 -0.068174 -0.408623  ... -0.311664 -0.159022  3.364898 -0.304482   \n",
       "\n",
       "         35        36        37       38       39        40  \n",
       "0 -0.295623 -0.297743  3.517559 -0.28829 -0.30107 -0.318315  \n",
       "1 -0.295623 -0.297743 -0.284288 -0.28829 -0.30107 -0.318315  \n",
       "\n",
       "[2 rows x 41 columns]"
      ]
     },
     "execution_count": 455,
     "metadata": {},
     "output_type": "execute_result"
    }
   ],
   "source": [
    "X_test.head(2)"
   ]
  },
  {
   "cell_type": "code",
   "execution_count": 456,
   "metadata": {},
   "outputs": [
    {
     "data": {
      "text/plain": [
       "LogisticRegression(random_state=0)"
      ]
     },
     "execution_count": 456,
     "metadata": {},
     "output_type": "execute_result"
    }
   ],
   "source": [
    "from sklearn.linear_model import LogisticRegression\n",
    "classifier = LogisticRegression(random_state=0)\n",
    "classifier.fit(X_train,y_train)"
   ]
  },
  {
   "cell_type": "code",
   "execution_count": 457,
   "metadata": {},
   "outputs": [],
   "source": [
    "y_pred = classifier.predict(X_test)"
   ]
  },
  {
   "cell_type": "code",
   "execution_count": 468,
   "metadata": {},
   "outputs": [],
   "source": [
    "from sklearn.metrics import accuracy_score,recall_score, f1_score, confusion_matrix,precision_score"
   ]
  },
  {
   "cell_type": "code",
   "execution_count": 459,
   "metadata": {},
   "outputs": [],
   "source": [
    "cm = confusion_matrix(y_test,y_pred)"
   ]
  },
  {
   "cell_type": "code",
   "execution_count": 460,
   "metadata": {},
   "outputs": [
    {
     "data": {
      "text/plain": [
       "array([[1642, 1524],\n",
       "       [ 559, 1675]], dtype=int64)"
      ]
     },
     "execution_count": 460,
     "metadata": {},
     "output_type": "execute_result"
    }
   ],
   "source": [
    "cm"
   ]
  },
  {
   "cell_type": "code",
   "execution_count": 469,
   "metadata": {},
   "outputs": [
    {
     "data": {
      "text/plain": [
       "0.7497761862130707"
      ]
     },
     "execution_count": 469,
     "metadata": {},
     "output_type": "execute_result"
    }
   ],
   "source": [
    "recall_score(y_test,y_pred)"
   ]
  },
  {
   "cell_type": "code",
   "execution_count": 461,
   "metadata": {},
   "outputs": [
    {
     "data": {
      "text/plain": [
       "0.6142592592592593"
      ]
     },
     "execution_count": 461,
     "metadata": {},
     "output_type": "execute_result"
    }
   ],
   "source": [
    "accuracy_score(y_test,y_pred)"
   ]
  },
  {
   "cell_type": "code",
   "execution_count": 462,
   "metadata": {},
   "outputs": [
    {
     "data": {
      "text/plain": [
       "0.5236011253516724"
      ]
     },
     "execution_count": 462,
     "metadata": {},
     "output_type": "execute_result"
    }
   ],
   "source": [
    "precision_score(y_test,y_pred)"
   ]
  },
  {
   "cell_type": "code",
   "execution_count": 470,
   "metadata": {},
   "outputs": [
    {
     "data": {
      "text/plain": [
       "0.616602245536536"
      ]
     },
     "execution_count": 470,
     "metadata": {},
     "output_type": "execute_result"
    }
   ],
   "source": [
    "f1_score(y_test,y_pred)"
   ]
  },
  {
   "cell_type": "code",
   "execution_count": 467,
   "metadata": {},
   "outputs": [
    {
     "data": {
      "text/plain": [
       "<matplotlib.axes._subplots.AxesSubplot at 0x22d9ce1c508>"
      ]
     },
     "execution_count": 467,
     "metadata": {},
     "output_type": "execute_result"
    },
    {
     "data": {
      "image/png": "[encoded data removed]",
      "text/plain": [
       "<Figure size 432x288 with 2 Axes>"
      ]
     },
     "metadata": {},
     "output_type": "display_data"
    }
   ],
   "source": [
    "sns.heatmap(cm, annot = True,fmt='.5g')"
   ]
  },
  {
   "cell_type": "code",
   "execution_count": 476,
   "metadata": {},
   "outputs": [],
   "source": [
    "from sklearn.model_selection import cross_val_score"
   ]
  },
  {
   "cell_type": "code",
   "execution_count": 477,
   "metadata": {},
   "outputs": [],
   "source": [
    "accuracies = cross_val_score(estimator = classifier,\n",
    "                            X = X_train,\n",
    "                            y = y_train,\n",
    "                            cv = 10)"
   ]
  },
  {
   "cell_type": "code",
   "execution_count": 478,
   "metadata": {},
   "outputs": [
    {
     "data": {
      "text/plain": [
       "array([0.63982103, 0.64876957, 0.64932886, 0.62807606, 0.63702461,\n",
       "       0.65100671, 0.63534676, 0.651566  , 0.63870246, 0.66107383])"
      ]
     },
     "execution_count": 478,
     "metadata": {},
     "output_type": "execute_result"
    }
   ],
   "source": [
    "accuracies"
   ]
  },
  {
   "cell_type": "code",
   "execution_count": 480,
   "metadata": {},
   "outputs": [
    {
     "data": {
      "text/html": [
       "<div>\n",
       "<style scoped>\n",
       "    .dataframe tbody tr th:only-of-type {\n",
       "        vertical-align: middle;\n",
       "    }\n",
       "\n",
       "    .dataframe tbody tr th {\n",
       "        vertical-align: top;\n",
       "    }\n",
       "\n",
       "    .dataframe thead th {\n",
       "        text-align: right;\n",
       "    }\n",
       "</style>\n",
       "<table border=\"1\" class=\"dataframe\">\n",
       "  <thead>\n",
       "    <tr style=\"text-align: right;\">\n",
       "      <th></th>\n",
       "      <th>features</th>\n",
       "      <th>coeff</th>\n",
       "    </tr>\n",
       "  </thead>\n",
       "  <tbody>\n",
       "    <tr>\n",
       "      <th>0</th>\n",
       "      <td>age</td>\n",
       "      <td>-0.165270</td>\n",
       "    </tr>\n",
       "    <tr>\n",
       "      <th>1</th>\n",
       "      <td>deposits</td>\n",
       "      <td>0.476308</td>\n",
       "    </tr>\n",
       "    <tr>\n",
       "      <th>2</th>\n",
       "      <td>withdrawal</td>\n",
       "      <td>0.059359</td>\n",
       "    </tr>\n",
       "    <tr>\n",
       "      <th>3</th>\n",
       "      <td>purchases_partners</td>\n",
       "      <td>-0.722341</td>\n",
       "    </tr>\n",
       "    <tr>\n",
       "      <th>4</th>\n",
       "      <td>purchases</td>\n",
       "      <td>-0.620409</td>\n",
       "    </tr>\n",
       "    <tr>\n",
       "      <th>5</th>\n",
       "      <td>cc_taken</td>\n",
       "      <td>0.093058</td>\n",
       "    </tr>\n",
       "    <tr>\n",
       "      <th>6</th>\n",
       "      <td>cc_recommended</td>\n",
       "      <td>0.043143</td>\n",
       "    </tr>\n",
       "    <tr>\n",
       "      <th>7</th>\n",
       "      <td>cc_disliked</td>\n",
       "      <td>-0.001461</td>\n",
       "    </tr>\n",
       "    <tr>\n",
       "      <th>8</th>\n",
       "      <td>cc_liked</td>\n",
       "      <td>-0.006943</td>\n",
       "    </tr>\n",
       "    <tr>\n",
       "      <th>9</th>\n",
       "      <td>cc_application_begin</td>\n",
       "      <td>0.038526</td>\n",
       "    </tr>\n",
       "    <tr>\n",
       "      <th>10</th>\n",
       "      <td>app_downloaded</td>\n",
       "      <td>-0.010637</td>\n",
       "    </tr>\n",
       "    <tr>\n",
       "      <th>11</th>\n",
       "      <td>web_user</td>\n",
       "      <td>0.095055</td>\n",
       "    </tr>\n",
       "    <tr>\n",
       "      <th>12</th>\n",
       "      <td>app_web_user</td>\n",
       "      <td>0.042579</td>\n",
       "    </tr>\n",
       "    <tr>\n",
       "      <th>13</th>\n",
       "      <td>ios_user</td>\n",
       "      <td>0.064388</td>\n",
       "    </tr>\n",
       "    <tr>\n",
       "      <th>14</th>\n",
       "      <td>registered_phones</td>\n",
       "      <td>0.066178</td>\n",
       "    </tr>\n",
       "    <tr>\n",
       "      <th>15</th>\n",
       "      <td>waiting_4_loan</td>\n",
       "      <td>-0.048080</td>\n",
       "    </tr>\n",
       "    <tr>\n",
       "      <th>16</th>\n",
       "      <td>cancelled_loan</td>\n",
       "      <td>0.067347</td>\n",
       "    </tr>\n",
       "    <tr>\n",
       "      <th>17</th>\n",
       "      <td>received_loan</td>\n",
       "      <td>0.107841</td>\n",
       "    </tr>\n",
       "    <tr>\n",
       "      <th>18</th>\n",
       "      <td>rejected_loan</td>\n",
       "      <td>0.114381</td>\n",
       "    </tr>\n",
       "    <tr>\n",
       "      <th>19</th>\n",
       "      <td>left_for_two_month_plus</td>\n",
       "      <td>0.053334</td>\n",
       "    </tr>\n",
       "    <tr>\n",
       "      <th>20</th>\n",
       "      <td>left_for_one_month</td>\n",
       "      <td>0.036808</td>\n",
       "    </tr>\n",
       "    <tr>\n",
       "      <th>21</th>\n",
       "      <td>is_referred</td>\n",
       "      <td>0.010388</td>\n",
       "    </tr>\n",
       "    <tr>\n",
       "      <th>22</th>\n",
       "      <td>reward_rate</td>\n",
       "      <td>-0.174477</td>\n",
       "    </tr>\n",
       "    <tr>\n",
       "      <th>23</th>\n",
       "      <td>housing_O</td>\n",
       "      <td>-0.035675</td>\n",
       "    </tr>\n",
       "    <tr>\n",
       "      <th>24</th>\n",
       "      <td>housing_R</td>\n",
       "      <td>0.010807</td>\n",
       "    </tr>\n",
       "    <tr>\n",
       "      <th>25</th>\n",
       "      <td>payment_type_Bi-Weekly</td>\n",
       "      <td>-0.064048</td>\n",
       "    </tr>\n",
       "    <tr>\n",
       "      <th>26</th>\n",
       "      <td>payment_type_Monthly</td>\n",
       "      <td>-0.025420</td>\n",
       "    </tr>\n",
       "    <tr>\n",
       "      <th>27</th>\n",
       "      <td>payment_type_Semi-Monthly</td>\n",
       "      <td>-0.031662</td>\n",
       "    </tr>\n",
       "    <tr>\n",
       "      <th>28</th>\n",
       "      <td>payment_type_Weekly</td>\n",
       "      <td>0.049766</td>\n",
       "    </tr>\n",
       "    <tr>\n",
       "      <th>29</th>\n",
       "      <td>zodiac_sign_Aquarius</td>\n",
       "      <td>-0.016246</td>\n",
       "    </tr>\n",
       "    <tr>\n",
       "      <th>30</th>\n",
       "      <td>zodiac_sign_Aries</td>\n",
       "      <td>0.034730</td>\n",
       "    </tr>\n",
       "    <tr>\n",
       "      <th>31</th>\n",
       "      <td>zodiac_sign_Cancer</td>\n",
       "      <td>0.027312</td>\n",
       "    </tr>\n",
       "    <tr>\n",
       "      <th>32</th>\n",
       "      <td>zodiac_sign_Capricorn</td>\n",
       "      <td>0.032162</td>\n",
       "    </tr>\n",
       "    <tr>\n",
       "      <th>33</th>\n",
       "      <td>zodiac_sign_Gemini</td>\n",
       "      <td>-0.020556</td>\n",
       "    </tr>\n",
       "    <tr>\n",
       "      <th>34</th>\n",
       "      <td>zodiac_sign_Leo</td>\n",
       "      <td>0.028130</td>\n",
       "    </tr>\n",
       "    <tr>\n",
       "      <th>35</th>\n",
       "      <td>zodiac_sign_Libra</td>\n",
       "      <td>-0.005005</td>\n",
       "    </tr>\n",
       "    <tr>\n",
       "      <th>36</th>\n",
       "      <td>zodiac_sign_Pisces</td>\n",
       "      <td>0.018995</td>\n",
       "    </tr>\n",
       "    <tr>\n",
       "      <th>37</th>\n",
       "      <td>zodiac_sign_Sagittarius</td>\n",
       "      <td>0.027728</td>\n",
       "    </tr>\n",
       "    <tr>\n",
       "      <th>38</th>\n",
       "      <td>zodiac_sign_Scorpio</td>\n",
       "      <td>0.007673</td>\n",
       "    </tr>\n",
       "    <tr>\n",
       "      <th>39</th>\n",
       "      <td>zodiac_sign_Taurus</td>\n",
       "      <td>-0.011425</td>\n",
       "    </tr>\n",
       "    <tr>\n",
       "      <th>40</th>\n",
       "      <td>zodiac_sign_Virgo</td>\n",
       "      <td>0.011984</td>\n",
       "    </tr>\n",
       "  </tbody>\n",
       "</table>\n",
       "</div>"
      ],
      "text/plain": [
       "                     features     coeff\n",
       "0                         age -0.165270\n",
       "1                    deposits  0.476308\n",
       "2                  withdrawal  0.059359\n",
       "3          purchases_partners -0.722341\n",
       "4                   purchases -0.620409\n",
       "5                    cc_taken  0.093058\n",
       "6              cc_recommended  0.043143\n",
       "7                 cc_disliked -0.001461\n",
       "8                    cc_liked -0.006943\n",
       "9        cc_application_begin  0.038526\n",
       "10             app_downloaded -0.010637\n",
       "11                   web_user  0.095055\n",
       "12               app_web_user  0.042579\n",
       "13                   ios_user  0.064388\n",
       "14          registered_phones  0.066178\n",
       "15             waiting_4_loan -0.048080\n",
       "16             cancelled_loan  0.067347\n",
       "17              received_loan  0.107841\n",
       "18              rejected_loan  0.114381\n",
       "19    left_for_two_month_plus  0.053334\n",
       "20         left_for_one_month  0.036808\n",
       "21                is_referred  0.010388\n",
       "22                reward_rate -0.174477\n",
       "23                  housing_O -0.035675\n",
       "24                  housing_R  0.010807\n",
       "25     payment_type_Bi-Weekly -0.064048\n",
       "26       payment_type_Monthly -0.025420\n",
       "27  payment_type_Semi-Monthly -0.031662\n",
       "28        payment_type_Weekly  0.049766\n",
       "29       zodiac_sign_Aquarius -0.016246\n",
       "30          zodiac_sign_Aries  0.034730\n",
       "31         zodiac_sign_Cancer  0.027312\n",
       "32      zodiac_sign_Capricorn  0.032162\n",
       "33         zodiac_sign_Gemini -0.020556\n",
       "34            zodiac_sign_Leo  0.028130\n",
       "35          zodiac_sign_Libra -0.005005\n",
       "36         zodiac_sign_Pisces  0.018995\n",
       "37    zodiac_sign_Sagittarius  0.027728\n",
       "38        zodiac_sign_Scorpio  0.007673\n",
       "39         zodiac_sign_Taurus -0.011425\n",
       "40          zodiac_sign_Virgo  0.011984"
      ]
     },
     "execution_count": 480,
     "metadata": {},
     "output_type": "execute_result"
    }
   ],
   "source": [
    "pd.concat([pd.DataFrame(X_train.columns,columns = ['features']),\n",
    "          pd.DataFrame(np.transpose(classifier.coef_), columns = ['coeff'])],axis =1)"
   ]
  },
  {
   "cell_type": "code",
   "execution_count": 481,
   "metadata": {},
   "outputs": [
    {
     "data": {
      "text/plain": [
       "array([[-0.16526966,  0.47630843,  0.05935891, -0.72234129, -0.62040877,\n",
       "         0.09305793,  0.04314283, -0.00146073, -0.00694309,  0.0385263 ,\n",
       "        -0.01063661,  0.09505521,  0.04257935,  0.06438813,  0.06617819,\n",
       "        -0.04807978,  0.06734694,  0.10784109,  0.11438092,  0.05333373,\n",
       "         0.03680817,  0.01038827, -0.17447677, -0.03567501,  0.01080733,\n",
       "        -0.06404759, -0.02541953, -0.03166213,  0.04976566, -0.01624622,\n",
       "         0.03473009,  0.02731201,  0.03216231, -0.02055559,  0.02812959,\n",
       "        -0.00500456,  0.01899519,  0.02772822,  0.0076732 , -0.01142533,\n",
       "         0.01198359]])"
      ]
     },
     "execution_count": 481,
     "metadata": {},
     "output_type": "execute_result"
    }
   ],
   "source": [
    " classifier.coef_"
   ]
  },
  {
   "cell_type": "code",
   "execution_count": 482,
   "metadata": {},
   "outputs": [],
   "source": [
    "from sklearn.feature_selection import RFE\n",
    "from sklearn.linear_model import LogisticRegression"
   ]
  },
  {
   "cell_type": "code",
   "execution_count": 483,
   "metadata": {},
   "outputs": [],
   "source": [
    "classifier  = LogisticRegression()"
   ]
  },
  {
   "cell_type": "code",
   "execution_count": 484,
   "metadata": {},
   "outputs": [
    {
     "name": "stderr",
     "output_type": "stream",
     "text": [
      "C:\\Users\\Allen Varughese\\Anaconda3\\lib\\site-packages\\sklearn\\utils\\validation.py:71: FutureWarning: Pass n_features_to_select=20 as keyword args. From version 0.25 passing these as positional arguments will result in an error\n",
      "  FutureWarning)\n"
     ]
    }
   ],
   "source": [
    "rfe = RFE(classifier, 20)"
   ]
  },
  {
   "cell_type": "code",
   "execution_count": 487,
   "metadata": {},
   "outputs": [],
   "source": [
    "rfe =rfe.fit(X_train,y_train)"
   ]
  },
  {
   "cell_type": "code",
   "execution_count": 488,
   "metadata": {},
   "outputs": [
    {
     "name": "stdout",
     "output_type": "stream",
     "text": [
      "[ True  True  True  True  True  True  True False False  True False  True\n",
      " False  True  True  True  True  True  True  True  True False  True  True\n",
      " False False False False  True False False False False False False False\n",
      " False False False False False]\n"
     ]
    }
   ],
   "source": [
    "print(rfe.support_)"
   ]
  },
  {
   "cell_type": "code",
   "execution_count": 489,
   "metadata": {},
   "outputs": [
    {
     "data": {
      "text/plain": [
       "array([ 1,  1,  1,  1,  1,  1,  1, 22, 20,  1, 15,  1, 11,  1,  1,  1,  1,\n",
       "        1,  1,  1,  1, 16,  1,  1, 18,  2,  9,  8,  1, 17,  3,  6,  4, 14,\n",
       "        5, 21, 10,  7, 13, 19, 12])"
      ]
     },
     "execution_count": 489,
     "metadata": {},
     "output_type": "execute_result"
    }
   ],
   "source": [
    "rfe.ranking_"
   ]
  },
  {
   "cell_type": "code",
   "execution_count": null,
   "metadata": {},
   "outputs": [],
   "source": []
  }
 ],
 "metadata": {
  "kernelspec": {
   "display_name": "Python 3",
   "language": "python",
   "name": "python3"
  },
  "language_info": {
   "codemirror_mode": {
    "name": "ipython",
    "version": 3
   },
   "file_extension": ".py",
   "mimetype": "text/x-python",
   "name": "python",
   "nbconvert_exporter": "python",
   "pygments_lexer": "ipython3",
   "version": "3.7.7"
  }
 },
 "nbformat": 4,
 "nbformat_minor": 4
}
